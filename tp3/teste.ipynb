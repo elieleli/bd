{
 "cells": [
  {
   "cell_type": "markdown",
   "metadata": {},
   "source": [
    "## Preparação:\n",
    "- remoção do postgres caso ele já esteja no computador."
   ]
  },
  {
   "cell_type": "code",
   "execution_count": null,
   "metadata": {},
   "outputs": [],
   "source": [
    "#apagando postgres caso ele já esteja no compouter\n",
    "!sudo systemctl stop postgresql \n",
    "!sudo apt-get --purge remove postgresql*\n",
    "!sudo apt-get autoremove\n",
    "!sudo apt-get autoclean\n",
    "!psql --version\n"
   ]
  },
  {
   "cell_type": "markdown",
   "metadata": {},
   "source": [
    "- clonagem do repositório, junto dos comandos iniciais"
   ]
  },
  {
   "cell_type": "code",
   "execution_count": null,
   "metadata": {},
   "outputs": [],
   "source": [
    "!git clone https://github.com/foliveirafilho/tpch-pgsql.git\n",
    "!wget -q https://github.com/electrum/tpch-dbgen/archive/32f1c1b92d1664dba542e927d23d86ffa57aa253.zip -O tpch-dbgen.zip\n",
    "!unzip -q tpch-dbgen.zip && mv tpch-dbgen-32f1c1b92d1664dba542e927d23d86ffa57aa253 tpch-dbgen && rm tpch-dbgen.zip\n"
   ]
  },
  {
   "cell_type": "markdown",
   "metadata": {},
   "source": [
    "## Tarefa 1 – Instalação do PostgreSQL\n"
   ]
  },
  {
   "cell_type": "markdown",
   "metadata": {},
   "source": [
    "- reinstalação do postgres"
   ]
  },
  {
   "cell_type": "code",
   "execution_count": null,
   "metadata": {},
   "outputs": [],
   "source": [
    "!sudo apt-get install -y postgresql postgresql-contrib\n"
   ]
  },
  {
   "cell_type": "markdown",
   "metadata": {},
   "source": [
    "- verificação das versões"
   ]
  },
  {
   "cell_type": "code",
   "execution_count": null,
   "metadata": {},
   "outputs": [],
   "source": [
    "!gcc --version\n",
    "!python3 --version\n",
    "!pg_config --version\n"
   ]
  },
  {
   "cell_type": "markdown",
   "metadata": {},
   "source": [
    "## Passo a passo repositório"
   ]
  },
  {
   "cell_type": "markdown",
   "metadata": {},
   "source": [
    "- instalação do programa "
   ]
  },
  {
   "cell_type": "code",
   "execution_count": null,
   "metadata": {},
   "outputs": [],
   "source": [
    "!pip3 install -r tpch-pgsql/requirements.txt"
   ]
  },
  {
   "cell_type": "markdown",
   "metadata": {},
   "source": [
    "## Tarefa 2 – Geração de um BD de testes"
   ]
  },
  {
   "cell_type": "markdown",
   "metadata": {},
   "source": [
    "- Criação de usuário no postgres"
   ]
  },
  {
   "cell_type": "code",
   "execution_count": null,
   "metadata": {},
   "outputs": [
    {
     "name": "stdout",
     "output_type": "stream",
     "text": [
      "could not change directory to \"/home/zico/Documentos/ufam/bd/bd/tp3\": Permissão negada\n"
     ]
    }
   ],
   "source": [
    "!sudo -u postgres createuser tpch\n",
    "!sudo -u postgres createdb tpchdb\n",
    "!sudo -u postgres psql -c \"ALTER USER tpch WITH ENCRYPTED PASSWORD '1234';\"\n",
    "!sudo -u postgres psql -c \"GRANT ALL PRIVILEGES ON DATABASE tpchdb TO tpch;\"\n",
    "!PGPASSWORD=1234 psql -h localhost -p 5432 -d tpchdb -U tpch -c \"\\l\"\n"
   ]
  },
  {
   "cell_type": "markdown",
   "metadata": {},
   "source": [
    "## Tarefa 3 – Execução de Consultas\n"
   ]
  },
  {
   "cell_type": "markdown",
   "metadata": {},
   "source": [
    "- rodando o programa (comparar com a versão do jhon)"
   ]
  },
  {
   "cell_type": "code",
   "execution_count": null,
   "metadata": {},
   "outputs": [],
   "source": [
    "!python3 tpch_pgsql.py prepare -H localhost -p 5432 -U tpch -W 1234 -d tpchdb -i ./data\n",
    "#executando  com tpch-dbgen dentro de tpch-pgsql\n",
    "#deu certo\n",
    "#passo 3\n",
    "\n",
    "!python3 tpch_pgsql.py load -H localhost -p 5432 -U tpch -W 1234 -d tpchdb\n",
    "#passo 3\n",
    "\n",
    "!python3 tpch_pgsql.py query -H localhost -p 5432 -U tpch -W 1234 -d tpchdb\n",
    "#passo 3"
   ]
  },
  {
   "cell_type": "markdown",
   "metadata": {},
   "source": [
    "## Tarefa 4 - identificação do sistema"
   ]
  },
  {
   "cell_type": "code",
   "execution_count": 72,
   "metadata": {},
   "outputs": [
    {
     "name": "stdout",
     "output_type": "stream",
     "text": [
      "--------------------NOME PROCESS--------------\n"
     ]
    },
    {
     "name": "stdout",
     "output_type": "stream",
     "text": [
      "Nome do modelo:                       12th Gen Intel(R) Core(TM) i5-12450H\n",
      "\n",
      "---------------RAM------------------\n",
      "               total       usada       livre    compart.  buff/cache  disponível\n",
      "Mem.:          7,5Gi       2,9Gi       728Mi       859Mi       3,8Gi       3,3Gi\n",
      "Swap:          2,0Gi       1,1Gi       928Mi\n",
      "\n",
      "---------------Disco------------------\n",
      "nvme0n1     238,5G disk\n",
      "\n",
      "---------------cache------------------\n",
      "cache de L1d:                         320 KiB (8 instances)\n",
      "cache de L1i:                         384 KiB (8 instances)\n",
      "cache de L2:                          7 MiB (5 instances)\n",
      "cache de L3:                          12 MiB (1 instance)\n",
      "\n",
      "---------------Distro------------------\n",
      "No LSB modules are available.\n",
      "Distributor ID:\tZorin\n",
      "\n",
      "---------------SO e Kernel------------------\n",
      "Linux Mengo 6.8.0-48-generic #48~22.04.1-Ubuntu SMP PREEMPT_DYNAMIC Mon Oct  7 11:24:13 UTC 2 x86_64 x86_64 x86_64 GNU/Linux\n"
     ]
    }
   ],
   "source": [
    "!echo \"--------------------NOME PROCESS--------------\"\n",
    "!lscpu | grep \"Nome\"\n",
    "!echo \"\"\n",
    "!echo \"---------------RAM------------------\"\n",
    "!free -h # Detalhes sobre a memória RAM tarefa 4\n",
    "!echo \"\"\n",
    "!echo \"---------------Disco------------------\"\n",
    "!lsblk -o NAME,SIZE,TYPE | grep \"disk\" # Detalhes sobre o disco tarefa 4\n",
    "!echo \"\"\n",
    "!echo \"---------------cache------------------\"\n",
    "!lscpu | grep -i \"cache\"  # Cache do processador tarefa 4\n",
    "!echo \"\"\n",
    "!echo \"---------------Distro------------------\"\n",
    "!lsb_release -a | grep \"Distributor\" # Detalhes da distribuição e versão do Linux tarefa 4\n",
    "!echo \"\"\n",
    "!echo \"---------------SO e Kernel------------------\"\n",
    "!uname -a # Informações sobre o Sistema Operacional e Kernel tarefa 4"
   ]
  },
  {
   "cell_type": "markdown",
   "metadata": {},
   "source": [
    "## Tarefa 5 - Verificação de Parâmetros de Armazenamento (Adaptada para SSD)\n"
   ]
  },
  {
   "cell_type": "markdown",
   "metadata": {},
   "source": [
    "a) Parâmetros de armazenamento do SSD: Verifique no SSD utilizado para os experimentos os seguintes parâmetros: Capacidade total do SSD; Tempo médio de leitura e escrita (latência); Taxa de transferência máxima e média de dados; Endurance (vida útil) em TBW (terabytes escritos); Tipo de memória utilizada (SLC, MLC, TLC, ou QLC); Velocidade de interface (ex.: SATA III, PCIe NVMe).\n"
   ]
  },
  {
   "cell_type": "code",
   "execution_count": 73,
   "metadata": {},
   "outputs": [
    {
     "name": "stdout",
     "output_type": "stream",
     "text": [
      "---------------Capacidade Disco------------------\n",
      "nvme0n1     238,5G disk\n"
     ]
    }
   ],
   "source": [
    "!echo \"---------------Capacidade Disco------------------\"\n",
    "!lsblk -o NAME,SIZE,TYPE | grep \"disk\" "
   ]
  },
  {
   "cell_type": "code",
   "execution_count": null,
   "metadata": {},
   "outputs": [
    {
     "name": "stdout",
     "output_type": "stream",
     "text": [
      "Lendo listas de pacotes... Pronto\n",
      "Construindo árvore de dependências... Pronto\n",
      "Lendo informação de estado... Pronto        \n",
      "Os seguintes pacotes foram instalados automaticamente e já não são necessários:\n",
      "  libllvm14 linux-headers-5.15.0-118 linux-headers-5.15.0-118-generic\n",
      "  linux-headers-5.15.0-119 linux-headers-5.15.0-119-generic\n",
      "  linux-headers-5.15.0-121 linux-headers-5.15.0-121-generic\n",
      "  linux-headers-5.15.0-122 linux-headers-5.15.0-122-generic\n",
      "  linux-image-5.15.0-118-generic linux-image-5.15.0-119-generic\n",
      "  linux-image-5.15.0-121-generic linux-image-5.15.0-122-generic\n",
      "  linux-modules-5.15.0-118-generic linux-modules-5.15.0-119-generic\n",
      "  linux-modules-5.15.0-121-generic linux-modules-5.15.0-122-generic\n",
      "  linux-modules-extra-5.15.0-118-generic\n",
      "  linux-modules-extra-5.15.0-119-generic\n",
      "  linux-modules-extra-5.15.0-121-generic\n",
      "  linux-modules-extra-5.15.0-122-generic python3-attr python3-docker\n",
      "  python3-dockerpty python3-docopt python3-dotenv python3-jsonschema\n",
      "  python3-pyrsistent python3-texttable python3-websocket\n",
      "Utilize 'sudo apt autoremove' para os remover.\n",
      "The following additional packages will be installed:\n",
      "  ibverbs-providers libdaxctl1 libgfapi0 libgfrpc0 libgfxdr0 libglusterfs0\n",
      "  libibverbs1 libndctl6 libpmem1 libpmemblk1 libpmemobj1 librados2 librbd1\n",
      "  librdmacm1\n",
      "Pacotes sugeridos:\n",
      "  gnuplot gfio python-scipy\n",
      "Os NOVOS pacotes a seguir serão instalados:\n",
      "  fio ibverbs-providers libdaxctl1 libgfapi0 libgfrpc0 libgfxdr0 libglusterfs0\n",
      "  libibverbs1 libndctl6 libpmem1 libpmemblk1 libpmemobj1 librados2 librbd1\n",
      "  librdmacm1\n",
      "0 pacotes atualizados, 15 pacotes novos instalados, 0 a serem removidos e 0 não atualizados.\n",
      "É preciso baixar 12,4 MB de arquivos.\n",
      "Depois desta operação, 41,2 MB adicionais de espaço em disco serão usados.\n",
      "Obter:1 http://archive.ubuntu.com/ubuntu jammy-updates/main amd64 libgfxdr0 amd64 10.1-1ubuntu0.2 [22,3 kB]\n",
      "Obter:2 http://archive.ubuntu.com/ubuntu jammy-updates/main amd64 libglusterfs0 amd64 10.1-1ubuntu0.2 [287 kB]\n",
      "Obter:3 http://archive.ubuntu.com/ubuntu jammy-updates/main amd64 libgfrpc0 amd64 10.1-1ubuntu0.2 [47,1 kB]\n",
      "Obter:4 http://archive.ubuntu.com/ubuntu jammy-updates/main amd64 libgfapi0 amd64 10.1-1ubuntu0.2 [77,3 kB]\n",
      "Obter:5 http://archive.ubuntu.com/ubuntu jammy/main amd64 libibverbs1 amd64 39.0-1 [69,3 kB]\n",
      "Obter:6 http://archive.ubuntu.com/ubuntu jammy/main amd64 libdaxctl1 amd64 72.1-1 [19,8 kB]\n",
      "Obter:7 http://archive.ubuntu.com/ubuntu jammy/main amd64 libndctl6 amd64 72.1-1 [57,7 kB]\n",
      "Obter:8 http://archive.ubuntu.com/ubuntu jammy/main amd64 libpmem1 amd64 1.11.1-3build1 [81,4 kB]\n",
      "Obter:9 http://archive.ubuntu.com/ubuntu jammy/universe amd64 libpmemblk1 amd64 1.11.1-3build1 [65,6 kB]\n",
      "Obter:10 http://archive.ubuntu.com/ubuntu jammy/main amd64 librdmacm1 amd64 39.0-1 [71,2 kB]\n",
      "Obter:11 http://archive.ubuntu.com/ubuntu jammy-updates/main amd64 librados2 amd64 17.2.7-0ubuntu0.22.04.1 [3.590 kB]\n",
      "Obter:12 http://archive.ubuntu.com/ubuntu jammy/main amd64 libpmemobj1 amd64 1.11.1-3build1 [124 kB]\n",
      "Obter:13 http://archive.ubuntu.com/ubuntu jammy-updates/main amd64 librbd1 amd64 17.2.7-0ubuntu0.22.04.1 [3.547 kB]\n",
      "Obter:14 http://archive.ubuntu.com/ubuntu jammy/universe amd64 fio amd64 3.28-1 [4.047 kB]\n",
      "Obter:15 http://archive.ubuntu.com/ubuntu jammy/main amd64 ibverbs-providers amd64 39.0-1 [341 kB]\n",
      "Baixados 12,4 MB em 7s (1.915 kB/s)                                            \u001b[0m\u001b[33m\n",
      "\n",
      "\u001b7\u001b[0;23r\u001b8\u001b[1AA seleccionar pacote anteriormente não seleccionado libgfxdr0:amd64.\n",
      "(Lendo banco de dados ... 771561 ficheiros e directórios actualmente instalados.)\n",
      "A preparar para desempacotar .../00-libgfxdr0_10.1-1ubuntu0.2_amd64.deb ...\n",
      "\u001b7\u001b[24;0f\u001b[42m\u001b[30mProgress: [  0%]\u001b[49m\u001b[39m [..........................................................] \u001b8\u001b7\u001b[24;0f\u001b[42m\u001b[30mProgress: [  2%]\u001b[49m\u001b[39m [..........................................................] \u001b8A descompactar libgfxdr0:amd64 (10.1-1ubuntu0.2) ...\n",
      "\u001b7\u001b[24;0f\u001b[42m\u001b[30mProgress: [  3%]\u001b[49m\u001b[39m [#.........................................................] \u001b8A seleccionar pacote anteriormente não seleccionado libglusterfs0:amd64.\n",
      "A preparar para desempacotar .../01-libglusterfs0_10.1-1ubuntu0.2_amd64.deb ...\n",
      "\u001b7\u001b[24;0f\u001b[42m\u001b[30mProgress: [  5%]\u001b[49m\u001b[39m [##........................................................] \u001b8A descompactar libglusterfs0:amd64 (10.1-1ubuntu0.2) ...\n",
      "\u001b7\u001b[24;0f\u001b[42m\u001b[30mProgress: [  7%]\u001b[49m\u001b[39m [###.......................................................] \u001b8A seleccionar pacote anteriormente não seleccionado libgfrpc0:amd64.\n",
      "A preparar para desempacotar .../02-libgfrpc0_10.1-1ubuntu0.2_amd64.deb ...\n",
      "\u001b7\u001b[24;0f\u001b[42m\u001b[30mProgress: [  8%]\u001b[49m\u001b[39m [####......................................................] \u001b8A descompactar libgfrpc0:amd64 (10.1-1ubuntu0.2) ...\n",
      "\u001b7\u001b[24;0f\u001b[42m\u001b[30mProgress: [ 10%]\u001b[49m\u001b[39m [#####.....................................................] \u001b8A seleccionar pacote anteriormente não seleccionado libgfapi0:amd64.\n",
      "A preparar para desempacotar .../03-libgfapi0_10.1-1ubuntu0.2_amd64.deb ...\n",
      "\u001b7\u001b[24;0f\u001b[42m\u001b[30mProgress: [ 11%]\u001b[49m\u001b[39m [######....................................................] \u001b8A descompactar libgfapi0:amd64 (10.1-1ubuntu0.2) ...\n",
      "\u001b7\u001b[24;0f\u001b[42m\u001b[30mProgress: [ 13%]\u001b[49m\u001b[39m [#######...................................................] \u001b8A seleccionar pacote anteriormente não seleccionado libibverbs1:amd64.\n",
      "A preparar para desempacotar .../04-libibverbs1_39.0-1_amd64.deb ...\n",
      "\u001b7\u001b[24;0f\u001b[42m\u001b[30mProgress: [ 15%]\u001b[49m\u001b[39m [########..................................................] \u001b8A descompactar libibverbs1:amd64 (39.0-1) ...\n",
      "\u001b7\u001b[24;0f\u001b[42m\u001b[30mProgress: [ 16%]\u001b[49m\u001b[39m [#########.................................................] \u001b8A seleccionar pacote anteriormente não seleccionado libdaxctl1:amd64.\n",
      "A preparar para desempacotar .../05-libdaxctl1_72.1-1_amd64.deb ...\n",
      "\u001b7\u001b[24;0f\u001b[42m\u001b[30mProgress: [ 18%]\u001b[49m\u001b[39m [##########................................................] \u001b8A descompactar libdaxctl1:amd64 (72.1-1) ...\n",
      "\u001b7\u001b[24;0f\u001b[42m\u001b[30mProgress: [ 20%]\u001b[49m\u001b[39m [###########...............................................] \u001b8A seleccionar pacote anteriormente não seleccionado libndctl6:amd64.\n",
      "A preparar para desempacotar .../06-libndctl6_72.1-1_amd64.deb ...\n",
      "\u001b7\u001b[24;0f\u001b[42m\u001b[30mProgress: [ 21%]\u001b[49m\u001b[39m [############..............................................] \u001b8A descompactar libndctl6:amd64 (72.1-1) ...\n",
      "\u001b7\u001b[24;0f\u001b[42m\u001b[30mProgress: [ 23%]\u001b[49m\u001b[39m [#############.............................................] \u001b8A seleccionar pacote anteriormente não seleccionado libpmem1:amd64.\n",
      "A preparar para desempacotar .../07-libpmem1_1.11.1-3build1_amd64.deb ...\n",
      "\u001b7\u001b[24;0f\u001b[42m\u001b[30mProgress: [ 25%]\u001b[49m\u001b[39m [##############............................................] \u001b8A descompactar libpmem1:amd64 (1.11.1-3build1) ...\n",
      "\u001b7\u001b[24;0f\u001b[42m\u001b[30mProgress: [ 26%]\u001b[49m\u001b[39m [###############...........................................] \u001b8A seleccionar pacote anteriormente não seleccionado libpmemblk1:amd64.\n",
      "A preparar para desempacotar .../08-libpmemblk1_1.11.1-3build1_amd64.deb ...\n",
      "\u001b7\u001b[24;0f\u001b[42m\u001b[30mProgress: [ 28%]\u001b[49m\u001b[39m [################..........................................] \u001b8A descompactar libpmemblk1:amd64 (1.11.1-3build1) ...\n",
      "\u001b7\u001b[24;0f\u001b[42m\u001b[30mProgress: [ 30%]\u001b[49m\u001b[39m [#################.........................................] \u001b8A seleccionar pacote anteriormente não seleccionado librdmacm1:amd64.\n",
      "A preparar para desempacotar .../09-librdmacm1_39.0-1_amd64.deb ...\n",
      "\u001b7\u001b[24;0f\u001b[42m\u001b[30mProgress: [ 31%]\u001b[49m\u001b[39m [##################........................................] \u001b8A descompactar librdmacm1:amd64 (39.0-1) ...\n",
      "\u001b7\u001b[24;0f\u001b[42m\u001b[30mProgress: [ 33%]\u001b[49m\u001b[39m [###################.......................................] \u001b8A seleccionar pacote anteriormente não seleccionado librados2.\n",
      "A preparar para desempacotar .../10-librados2_17.2.7-0ubuntu0.22.04.1_amd64.deb ...\n",
      "\u001b7\u001b[24;0f\u001b[42m\u001b[30mProgress: [ 34%]\u001b[49m\u001b[39m [###################.......................................] \u001b8A descompactar librados2 (17.2.7-0ubuntu0.22.04.1) ...\n",
      "\u001b7\u001b[24;0f\u001b[42m\u001b[30mProgress: [ 36%]\u001b[49m\u001b[39m [####################......................................] \u001b8A seleccionar pacote anteriormente não seleccionado libpmemobj1:amd64.\n",
      "A preparar para desempacotar .../11-libpmemobj1_1.11.1-3build1_amd64.deb ...\n",
      "\u001b7\u001b[24;0f\u001b[42m\u001b[30mProgress: [ 38%]\u001b[49m\u001b[39m [#####################.....................................] \u001b8A descompactar libpmemobj1:amd64 (1.11.1-3build1) ...\n",
      "\u001b7\u001b[24;0f\u001b[42m\u001b[30mProgress: [ 39%]\u001b[49m\u001b[39m [######################....................................] \u001b8A seleccionar pacote anteriormente não seleccionado librbd1.\n",
      "A preparar para desempacotar .../12-librbd1_17.2.7-0ubuntu0.22.04.1_amd64.deb ...\n",
      "\u001b7\u001b[24;0f\u001b[42m\u001b[30mProgress: [ 41%]\u001b[49m\u001b[39m [#######################...................................] \u001b8A descompactar librbd1 (17.2.7-0ubuntu0.22.04.1) ...\n",
      "\u001b7\u001b[24;0f\u001b[42m\u001b[30mProgress: [ 43%]\u001b[49m\u001b[39m [########################..................................] \u001b8A seleccionar pacote anteriormente não seleccionado fio.\n",
      "A preparar para desempacotar .../13-fio_3.28-1_amd64.deb ...\n",
      "\u001b7\u001b[24;0f\u001b[42m\u001b[30mProgress: [ 44%]\u001b[49m\u001b[39m [#########################.................................] \u001b8A descompactar fio (3.28-1) ...\n",
      "\u001b7\u001b[24;0f\u001b[42m\u001b[30mProgress: [ 46%]\u001b[49m\u001b[39m [##########################................................] \u001b8A seleccionar pacote anteriormente não seleccionado ibverbs-providers:amd64.\n",
      "A preparar para desempacotar .../14-ibverbs-providers_39.0-1_amd64.deb ...\n",
      "\u001b7\u001b[24;0f\u001b[42m\u001b[30mProgress: [ 48%]\u001b[49m\u001b[39m [###########################...............................] \u001b8A descompactar ibverbs-providers:amd64 (39.0-1) ...\n",
      "\u001b7\u001b[24;0f\u001b[42m\u001b[30mProgress: [ 49%]\u001b[49m\u001b[39m [############################..............................] \u001b8Configurando libibverbs1:amd64 (39.0-1) ...\n",
      "\u001b7\u001b[24;0f\u001b[42m\u001b[30mProgress: [ 51%]\u001b[49m\u001b[39m [#############################.............................] \u001b8\u001b7\u001b[24;0f\u001b[42m\u001b[30mProgress: [ 52%]\u001b[49m\u001b[39m [##############################............................] \u001b8Configurando ibverbs-providers:amd64 (39.0-1) ...\n",
      "\u001b7\u001b[24;0f\u001b[42m\u001b[30mProgress: [ 54%]\u001b[49m\u001b[39m [###############################...........................] \u001b8\u001b7\u001b[24;0f\u001b[42m\u001b[30mProgress: [ 56%]\u001b[49m\u001b[39m [################################..........................] \u001b8Configurando libglusterfs0:amd64 (10.1-1ubuntu0.2) ...\n",
      "\u001b7\u001b[24;0f\u001b[42m\u001b[30mProgress: [ 57%]\u001b[49m\u001b[39m [#################################.........................] \u001b8\u001b7\u001b[24;0f\u001b[42m\u001b[30mProgress: [ 59%]\u001b[49m\u001b[39m [##################################........................] \u001b8Configurando libdaxctl1:amd64 (72.1-1) ...\n",
      "\u001b7\u001b[24;0f\u001b[42m\u001b[30mProgress: [ 61%]\u001b[49m\u001b[39m [###################################.......................] \u001b8\u001b7\u001b[24;0f\u001b[42m\u001b[30mProgress: [ 62%]\u001b[49m\u001b[39m [####################################......................] \u001b8Configurando libndctl6:amd64 (72.1-1) ...\n",
      "\u001b7\u001b[24;0f\u001b[42m\u001b[30mProgress: [ 64%]\u001b[49m\u001b[39m [#####################################.....................] \u001b8\u001b7\u001b[24;0f\u001b[42m\u001b[30mProgress: [ 66%]\u001b[49m\u001b[39m [######################################....................] \u001b8Configurando libpmem1:amd64 (1.11.1-3build1) ...\n",
      "\u001b7\u001b[24;0f\u001b[42m\u001b[30mProgress: [ 67%]\u001b[49m\u001b[39m [######################################....................] \u001b8\u001b7\u001b[24;0f\u001b[42m\u001b[30mProgress: [ 69%]\u001b[49m\u001b[39m [#######################################...................] \u001b8Configurando libgfxdr0:amd64 (10.1-1ubuntu0.2) ...\n",
      "\u001b7\u001b[24;0f\u001b[42m\u001b[30mProgress: [ 70%]\u001b[49m\u001b[39m [########################################..................] \u001b8\u001b7\u001b[24;0f\u001b[42m\u001b[30mProgress: [ 72%]\u001b[49m\u001b[39m [#########################################.................] \u001b8Configurando librdmacm1:amd64 (39.0-1) ...\n",
      "\u001b7\u001b[24;0f\u001b[42m\u001b[30mProgress: [ 74%]\u001b[49m\u001b[39m [##########################################................] \u001b8\u001b7\u001b[24;0f\u001b[42m\u001b[30mProgress: [ 75%]\u001b[49m\u001b[39m [###########################################...............] \u001b8Configurando librados2 (17.2.7-0ubuntu0.22.04.1) ...\n",
      "\u001b7\u001b[24;0f\u001b[42m\u001b[30mProgress: [ 77%]\u001b[49m\u001b[39m [############################################..............] \u001b8\u001b7\u001b[24;0f\u001b[42m\u001b[30mProgress: [ 79%]\u001b[49m\u001b[39m [#############################################.............] \u001b8Configurando libpmemobj1:amd64 (1.11.1-3build1) ...\n",
      "\u001b7\u001b[24;0f\u001b[42m\u001b[30mProgress: [ 80%]\u001b[49m\u001b[39m [##############################################............] \u001b8\u001b7\u001b[24;0f\u001b[42m\u001b[30mProgress: [ 82%]\u001b[49m\u001b[39m [###############################################...........] \u001b8Configurando librbd1 (17.2.7-0ubuntu0.22.04.1) ...\n",
      "\u001b7\u001b[24;0f\u001b[42m\u001b[30mProgress: [ 84%]\u001b[49m\u001b[39m [################################################..........] \u001b8\u001b7\u001b[24;0f\u001b[42m\u001b[30mProgress: [ 85%]\u001b[49m\u001b[39m [#################################################.........] \u001b8Configurando libpmemblk1:amd64 (1.11.1-3build1) ...\n",
      "\u001b7\u001b[24;0f\u001b[42m\u001b[30mProgress: [ 87%]\u001b[49m\u001b[39m [##################################################........] \u001b8\u001b7\u001b[24;0f\u001b[42m\u001b[30mProgress: [ 89%]\u001b[49m\u001b[39m [###################################################.......] \u001b8Configurando libgfrpc0:amd64 (10.1-1ubuntu0.2) ...\n",
      "\u001b7\u001b[24;0f\u001b[42m\u001b[30mProgress: [ 90%]\u001b[49m\u001b[39m [####################################################......] \u001b8\u001b7\u001b[24;0f\u001b[42m\u001b[30mProgress: [ 92%]\u001b[49m\u001b[39m [#####################################################.....] \u001b8Configurando libgfapi0:amd64 (10.1-1ubuntu0.2) ...\n",
      "\u001b7\u001b[24;0f\u001b[42m\u001b[30mProgress: [ 93%]\u001b[49m\u001b[39m [######################################################....] \u001b8\u001b7\u001b[24;0f\u001b[42m\u001b[30mProgress: [ 95%]\u001b[49m\u001b[39m [#######################################################...] \u001b8Configurando fio (3.28-1) ...\n",
      "\u001b7\u001b[24;0f\u001b[42m\u001b[30mProgress: [ 97%]\u001b[49m\u001b[39m [########################################################..] \u001b8\u001b7\u001b[24;0f\u001b[42m\u001b[30mProgress: [ 98%]\u001b[49m\u001b[39m [#########################################################.] \u001b8A processar 'triggers' para libc-bin (2.35-0ubuntu3.8) ...\n",
      "A processar 'triggers' para man-db (2.10.2-1) ...\n",
      "A processar 'triggers' para doc-base (0.11.1) ...\n",
      "Processing 1 added doc-base file...\n",
      "\n",
      "\u001b7\u001b[0;24r\u001b8\u001b[1A\u001b[J"
     ]
    }
   ],
   "source": [
    "#programa para rodar o próximo comando\n",
    "!sudo apt install fio -y"
   ]
  },
  {
   "cell_type": "code",
   "execution_count": null,
   "metadata": {},
   "outputs": [
    {
     "name": "stdout",
     "output_type": "stream",
     "text": [
      "---------------Latência em Nanosegundos------------------\n",
      "    clat (nsec): min=315, max=18345k, avg=906.41, stdev=3795.81\n",
      "     lat (nsec): min=334, max=18345k, avg=927.42, stdev=3796.70\n"
     ]
    }
   ],
   "source": [
    "!echo \"---------------Latência em Nanosegundos------------------\"\n",
    "!sudo fio --name=latency_test --filename=/dev/sdX --rw=randread --bs=4k --numjobs=1 --iodepth=1 --runtime=30 --time_based --size=1G --group_reporting | grep -m 2 'lat (nsec)'\n"
   ]
  },
  {
   "cell_type": "code",
   "execution_count": 2,
   "metadata": {},
   "outputs": [
    {
     "name": "stdout",
     "output_type": "stream",
     "text": [
      "Lendo listas de pacotes... Pronto\n",
      "Construindo árvore de dependências... Pronto\n",
      "Lendo informação de estado... Pronto        \n",
      "Os seguintes pacotes foram instalados automaticamente e já não são necessários:\n",
      "  libllvm14 linux-headers-5.15.0-118 linux-headers-5.15.0-118-generic\n",
      "  linux-headers-5.15.0-119 linux-headers-5.15.0-119-generic\n",
      "  linux-headers-5.15.0-121 linux-headers-5.15.0-121-generic\n",
      "  linux-headers-5.15.0-122 linux-headers-5.15.0-122-generic\n",
      "  linux-image-5.15.0-118-generic linux-image-5.15.0-119-generic\n",
      "  linux-image-5.15.0-121-generic linux-image-5.15.0-122-generic\n",
      "  linux-modules-5.15.0-118-generic linux-modules-5.15.0-119-generic\n",
      "  linux-modules-5.15.0-121-generic linux-modules-5.15.0-122-generic\n",
      "  linux-modules-extra-5.15.0-118-generic\n",
      "  linux-modules-extra-5.15.0-119-generic\n",
      "  linux-modules-extra-5.15.0-121-generic\n",
      "  linux-modules-extra-5.15.0-122-generic python3-attr python3-docker\n",
      "  python3-dockerpty python3-docopt python3-dotenv python3-jsonschema\n",
      "  python3-pyrsistent python3-texttable python3-websocket\n",
      "Utilize 'sudo apt autoremove' para os remover.\n",
      "Pacotes sugeridos:\n",
      "  gsmartcontrol smart-notifier mailx | mailutils\n",
      "Os NOVOS pacotes a seguir serão instalados:\n",
      "  smartmontools\n",
      "0 pacotes atualizados, 1 pacotes novos instalados, 0 a serem removidos e 0 não atualizados.\n",
      "É preciso baixar 583 kB de arquivos.\n",
      "Depois desta operação, 1.980 kB adicionais de espaço em disco serão usados.\n",
      "Obter:1 http://archive.ubuntu.com/ubuntu jammy-updates/main amd64 smartmontools amd64 7.2-1ubuntu0.1 [583 kB]\n",
      "Baixados 583 kB em 4s (152 kB/s)        \n",
      "A seleccionar pacote anteriormente não seleccionado smartmontools.\n",
      "(Lendo banco de dados ... 771516 ficheiros e directórios actualmente instalados.)\n",
      "A preparar para desempacotar .../smartmontools_7.2-1ubuntu0.1_amd64.deb ...\n",
      "A descompactar smartmontools (7.2-1ubuntu0.1) ...\n",
      "Configurando smartmontools (7.2-1ubuntu0.1) ...\n",
      "Created symlink /etc/systemd/system/smartd.service → /lib/systemd/system/smartmontools.service.\n",
      "Created symlink /etc/systemd/system/multi-user.target.wants/smartmontools.service → /lib/systemd/system/smartmontools.service.\n",
      "A processar 'triggers' para man-db (2.10.2-1) ...\n"
     ]
    }
   ],
   "source": [
    "!sudo apt-get install smartmontools \n",
    "#programa para rodar o próximo comando\n"
   ]
  },
  {
   "cell_type": "code",
   "execution_count": 32,
   "metadata": {},
   "outputs": [
    {
     "name": "stdout",
     "output_type": "stream",
     "text": [
      "\n",
      "/dev/nvme0n1:\n",
      " Timing cached reads:   10272 MB in  2.00 seconds = 5142.22 MB/sec\n",
      " Timing buffered disk reads: 3318 MB in  3.00 seconds = 1105.80 MB/sec\n"
     ]
    }
   ],
   "source": [
    "# Taxa de transferência de leitura do SSD\n",
    "!sudo hdparm -tT /dev/nvme0n1\n"
   ]
  },
  {
   "cell_type": "code",
   "execution_count": 33,
   "metadata": {},
   "outputs": [
    {
     "name": "stdout",
     "output_type": "stream",
     "text": [
      "Data Units Written:                 4.781.530 [2,44 TB]\n"
     ]
    }
   ],
   "source": [
    "# Verificando a vida útil (TBW) do SSD\n",
    "!sudo smartctl -A /dev/nvme0n1 | grep \"Data Units Written\"\n"
   ]
  },
  {
   "cell_type": "code",
   "execution_count": null,
   "metadata": {},
   "outputs": [
    {
     "name": "stdout",
     "output_type": "stream",
     "text": [
      "smartctl 7.2 2020-12-30 r5155 [x86_64-linux-6.8.0-48-generic] (local build)\n",
      "Copyright (C) 2002-20, Bruce Allen, Christian Franke, www.smartmontools.org\n",
      "\n",
      "=== START OF INFORMATION SECTION ===\n",
      "Model Number:                       SM2P41C8-256GC1\n",
      "Serial Number:                      KO022L1KKNGD\n",
      "Firmware Version:                   V1223C0\n",
      "PCI Vendor/Subsystem ID:            0x1cc1\n",
      "IEEE OUI Identifier:                0x707c18\n",
      "Total NVM Capacity:                 256.060.514.304 [256 GB]\n",
      "Unallocated NVM Capacity:           0\n",
      "Controller ID:                      1\n",
      "NVMe Version:                       1.4\n",
      "Number of Namespaces:               1\n",
      "Namespace 1 Size/Capacity:          256.060.514.304 [256 GB]\n",
      "Namespace 1 Formatted LBA Size:     512\n",
      "Namespace 1 IEEE EUI-64:            707c18 0002020100\n",
      "Local Time is:                      Mon Nov 11 15:22:11 2024 -04\n",
      "\n"
     ]
    }
   ],
   "source": [
    "# Tipo de memória utilizada no SSD (se disponível)\n",
    "!sudo smartctl -i /dev/nvme0n1\n"
   ]
  },
  {
   "cell_type": "code",
   "execution_count": 26,
   "metadata": {},
   "outputs": [
    {
     "name": "stdout",
     "output_type": "stream",
     "text": [
      "\t\tLnkCap:\tPort #5, Speed 8GT/s, Width x4, ASPM L1, Exit Latency L1 <16us\n",
      "\t\tLnkCtl:\tASPM L1 Enabled; RCB 64 bytes, Disabled- CommClk+\n",
      "\t\tLnkSta:\tSpeed 8GT/s (ok), Width x4 (ok)\n",
      "\t\tLnkCap2: Supported Link Speeds: 2.5-8GT/s, Crosslink- Retimer- 2Retimers- DRS-\n",
      "\t\tLnkCtl2: Target Link Speed: 8GT/s, EnterCompliance- SpeedDis-\n",
      "\t\tLnkSta2: Current De-emphasis Level: -3.5dB, EqualizationComplete+ EqualizationPhase1+\n",
      "\t\tLnkCtl3: LnkEquIntrruptEn- PerformEqu-\n",
      "\t\tLnkCap:\tPort #9, Speed 8GT/s, Width x1, ASPM L0s L1, Exit Latency L0s <1us, L1 <16us\n",
      "\t\tLnkCtl:\tASPM L1 Enabled; RCB 64 bytes, Disabled- CommClk+\n",
      "\t\tLnkSta:\tSpeed 2.5GT/s (downgraded), Width x1 (ok)\n",
      "\t\tLnkCap2: Supported Link Speeds: 2.5-8GT/s, Crosslink- Retimer- 2Retimers- DRS-\n",
      "\t\tLnkCtl2: Target Link Speed: 8GT/s, EnterCompliance- SpeedDis-\n",
      "\t\tLnkSta2: Current De-emphasis Level: -3.5dB, EqualizationComplete- EqualizationPhase1-\n",
      "\t\tLnkCtl3: LnkEquIntrruptEn- PerformEqu-\n",
      "\t\tLnkCap:\tPort #0, Speed 8GT/s, Width x4, ASPM L1, Exit Latency L1 <64us\n",
      "\t\tLnkCtl:\tASPM L1 Enabled; RCB 64 bytes, Disabled- CommClk+\n",
      "\t\tLnkSta:\tSpeed 8GT/s (ok), Width x4 (ok)\n",
      "\t\tLnkCap2: Supported Link Speeds: 2.5-8GT/s, Crosslink- Retimer- 2Retimers- DRS-\n",
      "\t\tLnkCtl2: Target Link Speed: 8GT/s, EnterCompliance- SpeedDis-\n",
      "\t\tLnkSta2: Current De-emphasis Level: -6dB, EqualizationComplete+ EqualizationPhase1+\n",
      "\t\tLnkCtl3: LnkEquIntrruptEn- PerformEqu-\n",
      "\t\tLnkCap:\tPort #0, Speed 2.5GT/s, Width x1, ASPM L0s L1, Exit Latency L0s unlimited, L1 <64us\n",
      "\t\tLnkCtl:\tASPM L1 Enabled; RCB 64 bytes, Disabled- CommClk+\n",
      "\t\tLnkSta:\tSpeed 2.5GT/s (ok), Width x1 (ok)\n",
      "\t\tLnkCap2: Supported Link Speeds: 2.5GT/s, Crosslink- Retimer- 2Retimers- DRS-\n",
      "\t\tLnkCtl2: Target Link Speed: 2.5GT/s, EnterCompliance- SpeedDis-\n",
      "\t\tLnkSta2: Current De-emphasis Level: -6dB, EqualizationComplete- EqualizationPhase1-\n"
     ]
    }
   ],
   "source": [
    "#velocidade de interface\n",
    "!sudo lspci -vvv | grep -i 'Lnk'"
   ]
  },
  {
   "cell_type": "markdown",
   "metadata": {},
   "source": [
    "LnkCap mostra a velocidade máxima suportada e a largura de lanes disponível.\n",
    "LnkSta indica a velocidade real e a largura de lanes em uso no momento, e pode também mostrar se a velocidade está downgrade ou funcionando normalmente.\n",
    "\n",
    "Velocidade do link (Speed): O dispositivo está operando a 8GT/s (que corresponde a PCIe Gen 3) ou 2.5GT/s (que corresponde a PCIe Gen 1), dependendo da configuração do sistema e das condições de operação.\n",
    "Largura do link (Width): A largura do barramento (lanes) pode ser x1, x4, ou outras variações, indicando quantas conexões estão sendo usadas entre o dispositivo e o controlador.\n",
    "\n",
    "Portanto, o link pode ter uma capacidade máxima de 8GT/s e 4 lanes (x4), mas pode operar a 2.5GT/s se houver limitações ou configurações específicas no seu sistema."
   ]
  },
  {
   "cell_type": "markdown",
   "metadata": {},
   "source": [
    "b) Parâmetros do sistema operacional (SO) para o SSD:"
   ]
  },
  {
   "cell_type": "code",
   "execution_count": 43,
   "metadata": {},
   "outputs": [
    {
     "name": "stdout",
     "output_type": "stream",
     "text": [
      "\n",
      "/dev/nvme0n1:\n",
      " readonly      =  0 (off)\n",
      " readahead     = 256 (on)\n",
      " geometry      = 244198/64/32, sectors = 500118192, start = 0\n"
     ]
    }
   ],
   "source": [
    "# Verificando o modo de leitura e gravação do SSD usando hdparm\n",
    "!sudo hdparm /dev/nvme0n1 \n"
   ]
  },
  {
   "cell_type": "code",
   "execution_count": 45,
   "metadata": {},
   "outputs": [],
   "source": [
    "# Verificando a ativação do TRIM no SSD usando smartctl\n",
    "!sudo smartctl -i /dev/nvme0n1 | grep \"TRIM\"\n"
   ]
  },
  {
   "cell_type": "code",
   "execution_count": 48,
   "metadata": {},
   "outputs": [],
   "source": [
    "\n",
    "# Verificar TRIM usando hdparm\n",
    "!sudo hdparm -I /dev/nvme0n1 | grep \"TRIM\""
   ]
  }
 ],
 "metadata": {
  "kernelspec": {
   "display_name": "Python 3",
   "language": "python",
   "name": "python3"
  },
  "language_info": {
   "codemirror_mode": {
    "name": "ipython",
    "version": 3
   },
   "file_extension": ".py",
   "mimetype": "text/x-python",
   "name": "python",
   "nbconvert_exporter": "python",
   "pygments_lexer": "ipython3",
   "version": "3.10.12"
  }
 },
 "nbformat": 4,
 "nbformat_minor": 2
}
