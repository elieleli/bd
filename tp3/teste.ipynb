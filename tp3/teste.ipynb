{
 "cells": [
  {
   "cell_type": "markdown",
   "metadata": {},
   "source": [
    "## Preparação:\n",
    "- remoção do postgres caso ele já esteja no computador."
   ]
  },
  {
   "cell_type": "code",
   "execution_count": 2,
   "metadata": {},
   "outputs": [
    {
     "name": "stdout",
     "output_type": "stream",
     "text": [
      "Lendo listas de pacotes...\n",
      "Construindo árvore de dependências...\n",
      "Lendo informação de estado...\n",
      "O pacote 'postgresql-pgmp' não está instalado, por isso não será removido\n",
      "O pacote 'postgresql-9.1' não está instalado, por isso não será removido\n",
      "O pacote 'postgresql-postgis-java' não está instalado, por isso não será removido\n",
      "O pacote 'postgresql-10-auto-failover' não está instalado, por isso não será removido\n",
      "O pacote 'postgresql-11-auto-failover' não está instalado, por isso não será removido\n",
      "O pacote 'postgresql-12-auto-failover' não está instalado, por isso não será removido\n",
      "O pacote 'postgresql-13-auto-failover' não está instalado, por isso não será removido\n",
      "O pacote 'postgresql' não está instalado, por isso não será removido\n",
      "O pacote 'postgresql-client' não está instalado, por isso não será removido\n",
      "O pacote 'postgresql-doc' não está instalado, por isso não será removido\n",
      "O pacote 'postgresql-14-asn1oid' não está instalado, por isso não será removido\n",
      "O pacote 'postgresql-14-auto-failover' não está instalado, por isso não será removido\n",
      "O pacote 'postgresql-14-bgw-replstatus' não está instalado, por isso não será removido\n",
      "O pacote 'postgresql-14-cron' não está instalado, por isso não será removido\n",
      "O pacote 'postgresql-14-debversion' não está instalado, por isso não será removido\n",
      "O pacote 'postgresql-14-decoderbufs' não está instalado, por isso não será removido\n",
      "O pacote 'postgresql-14-dirtyread' não está instalado, por isso não será removido\n",
      "O pacote 'postgresql-14-extra-window-functions' não está instalado, por isso não será removido\n",
      "O pacote 'postgresql-14-first-last-agg' não está instalado, por isso não será removido\n",
      "O pacote 'postgresql-14-hll' não está instalado, por isso não será removido\n",
      "O pacote 'postgresql-14-hypopg' não está instalado, por isso não será removido\n",
      "O pacote 'postgresql-14-icu-ext' não está instalado, por isso não será removido\n",
      "O pacote 'postgresql-14-ip4r' não está instalado, por isso não será removido\n",
      "O pacote 'postgresql-14-jsquery' não está instalado, por isso não será removido\n",
      "O pacote 'postgresql-14-mimeo' não está instalado, por isso não será removido\n",
      "O pacote 'postgresql-14-mysql-fdw' não está instalado, por isso não será removido\n",
      "O pacote 'postgresql-14-numeral' não está instalado, por isso não será removido\n",
      "O pacote 'postgresql-14-ogr-fdw' não está instalado, por isso não será removido\n",
      "O pacote 'postgresql-14-omnidb' não está instalado, por isso não será removido\n",
      "O pacote 'postgresql-14-orafce' não está instalado, por isso não será removido\n",
      "O pacote 'postgresql-14-partman' não está instalado, por isso não será removido\n",
      "O pacote 'postgresql-14-periods' não está instalado, por isso não será removido\n",
      "O pacote 'postgresql-14-pg-catcheck' não está instalado, por isso não será removido\n",
      "O pacote 'postgresql-14-pg-checksums' não está instalado, por isso não será removido\n",
      "O pacote 'postgresql-14-pg-fact-loader' não está instalado, por isso não será removido\n",
      "O pacote 'postgresql-14-pg-qualstats' não está instalado, por isso não será removido\n",
      "O pacote 'postgresql-14-pg-stat-kcache' não está instalado, por isso não será removido\n",
      "O pacote 'postgresql-14-pg-track-settings' não está instalado, por isso não será removido\n",
      "O pacote 'postgresql-14-pg-wait-sampling' não está instalado, por isso não será removido\n",
      "O pacote 'postgresql-14-pgaudit' não está instalado, por isso não será removido\n",
      "O pacote 'postgresql-14-pgauditlogtofile' não está instalado, por isso não será removido\n",
      "O pacote 'postgresql-14-pgextwlist' não está instalado, por isso não será removido\n",
      "O pacote 'postgresql-14-pgfincore' não está instalado, por isso não será removido\n",
      "O pacote 'postgresql-14-pgl-ddl-deploy' não está instalado, por isso não será removido\n",
      "O pacote 'postgresql-14-pglogical' não está instalado, por isso não será removido\n",
      "O pacote 'postgresql-14-pglogical-ticker' não está instalado, por isso não será removido\n",
      "O pacote 'postgresql-14-pgmemcache' não está instalado, por isso não será removido\n",
      "O pacote 'postgresql-14-pgmp' não está instalado, por isso não será removido\n",
      "O pacote 'postgresql-14-pgpcre' não está instalado, por isso não será removido\n",
      "O pacote 'postgresql-14-pgpool2' não está instalado, por isso não será removido\n",
      "O pacote 'postgresql-14-pgq-node' não está instalado, por isso não será removido\n",
      "O pacote 'postgresql-14-pgq3' não está instalado, por isso não será removido\n",
      "O pacote 'postgresql-14-pgrouting' não está instalado, por isso não será removido\n",
      "O pacote 'postgresql-14-pgrouting-doc' não está instalado, por isso não será removido\n",
      "O pacote 'postgresql-14-pgrouting-scripts' não está instalado, por isso não será removido\n",
      "O pacote 'postgresql-14-pgsphere' não está instalado, por isso não será removido\n",
      "O pacote 'postgresql-14-pgtap' não está instalado, por isso não será removido\n",
      "O pacote 'postgresql-14-pldebugger' não está instalado, por isso não será removido\n",
      "O pacote 'postgresql-14-pllua' não está instalado, por isso não será removido\n",
      "O pacote 'postgresql-14-plpgsql-check' não está instalado, por isso não será removido\n",
      "O pacote 'postgresql-14-plproxy' não está instalado, por isso não será removido\n",
      "O pacote 'postgresql-14-plr' não está instalado, por isso não será removido\n",
      "O pacote 'postgresql-14-plsh' não está instalado, por isso não será removido\n",
      "O pacote 'postgresql-14-pointcloud' não está instalado, por isso não será removido\n",
      "O pacote 'postgresql-14-postgis-3' não está instalado, por isso não será removido\n",
      "O pacote 'postgresql-14-postgis-3-scripts' não está instalado, por isso não será removido\n",
      "O pacote 'postgresql-14-powa' não está instalado, por isso não será removido\n",
      "O pacote 'postgresql-14-prefix' não está instalado, por isso não será removido\n",
      "O pacote 'postgresql-14-preprepare' não está instalado, por isso não será removido\n",
      "O pacote 'postgresql-14-prioritize' não está instalado, por isso não será removido\n",
      "O pacote 'postgresql-14-q3c' não está instalado, por isso não será removido\n",
      "O pacote 'postgresql-14-rational' não está instalado, por isso não será removido\n",
      "O pacote 'postgresql-14-rdkit' não está instalado, por isso não será removido\n",
      "O pacote 'postgresql-14-repack' não está instalado, por isso não será removido\n",
      "O pacote 'postgresql-14-repmgr' não está instalado, por isso não será removido\n",
      "O pacote 'postgresql-14-rum' não está instalado, por isso não será removido\n",
      "O pacote 'postgresql-14-semver' não está instalado, por isso não será removido\n",
      "O pacote 'postgresql-14-similarity' não está instalado, por isso não será removido\n",
      "O pacote 'postgresql-14-slony1-2' não está instalado, por isso não será removido\n",
      "O pacote 'postgresql-14-snakeoil' não está instalado, por isso não será removido\n",
      "O pacote 'postgresql-14-tdigest' não está instalado, por isso não será removido\n",
      "O pacote 'postgresql-14-tds-fdw' não está instalado, por isso não será removido\n",
      "O pacote 'postgresql-14-toastinfo' não está instalado, por isso não será removido\n",
      "O pacote 'postgresql-14-unit' não está instalado, por isso não será removido\n",
      "O pacote 'postgresql-14-wal2json' não está instalado, por isso não será removido\n",
      "O pacote 'postgresql-all' não está instalado, por isso não será removido\n",
      "O pacote 'postgresql-autodoc' não está instalado, por isso não será removido\n",
      "O pacote 'postgresql-comparator' não está instalado, por isso não será removido\n",
      "O pacote 'postgresql-filedump' não está instalado, por isso não será removido\n",
      "O pacote 'postgresql-server-dev-all' não está instalado, por isso não será removido\n",
      "O pacote 'postgresql-doc-14' não está instalado, por isso não será removido\n",
      "O pacote 'postgresql-plperl-14' não está instalado, por isso não será removido\n",
      "O pacote 'postgresql-plpython3-14' não está instalado, por isso não será removido\n",
      "O pacote 'postgresql-pltcl-14' não está instalado, por isso não será removido\n",
      "O pacote 'postgresql-server-dev-14' não está instalado, por isso não será removido\n",
      "Os seguintes pacotes foram instalados automaticamente e já não são necessários:\n",
      "  libcommon-sense-perl libjson-perl libjson-xs-perl libllvm14 libpq5\n",
      "  libtypes-serialiser-perl\n",
      "Utilize 'sudo apt autoremove' para os remover.\n",
      "Os pacotes a seguir serão REMOVIDOS:\n",
      "  postgresql-14* postgresql-client-14* postgresql-client-common*\n",
      "  postgresql-common* postgresql-contrib*\n",
      "0 pacotes atualizados, 0 pacotes novos instalados, 5 a serem removidos e 0 não atualizados.\n",
      "Depois desta operação, 49,3 MB de espaço em disco serão liberados.\n",
      "(Lendo banco de dados ... 327977 ficheiros e directórios actualmente instalados.)\n",
      "A remover postgresql-contrib (14+238) ...\n",
      "A remover postgresql-14 (14.13-0ubuntu0.22.04.1) ...\n",
      "A remover postgresql-client-14 (14.13-0ubuntu0.22.04.1) ...\n",
      "A remover postgresql-common (238) ...\n",
      "A remover 'desvio de /usr/bin/pg_config para /usr/bin/pg_config.libpq-dev por postgresql-common'\n",
      "A remover postgresql-client-common (238) ...\n",
      "A processar 'triggers' para man-db (2.10.2-1) ...\n",
      "(Lendo banco de dados ... 326171 ficheiros e directórios actualmente instalados.)\n",
      "A purgar os ficheiros de configuração para postgresql-14 (14.13-0ubuntu0.22.04.1) ...\n",
      "Error while terminating subprocess (pid=12467): \n"
     ]
    },
    {
     "name": "stderr",
     "output_type": "stream",
     "text": [
      "Terminado\n"
     ]
    },
    {
     "name": "stdout",
     "output_type": "stream",
     "text": [
      "\u001b7\u001b[?47h\u001b[1;24r\u001b[4l\u001b[m\u001b[37m\u001b[40m\u001b[1;24r\u001b[H\u001b[2J\u001b[1;1H\u001b[45m                                                                                \u001b[2;1H                                                                                \u001b[3;1H                                                                                \u001b[4;1H                                                                                \u001b[5;1H                                                                                \u001b[6;1H                                                                                \u001b[7;1H                                                                                \u001b[8;1H                                                                                \u001b[9;1H                                                                                \u001b[10;1H                                                                                \u001b[11;1H                                                                                \u001b[12;1H                                                                                \u001b[13;1H                                                                                \u001b[14;1H                                                                                \u001b[15;1H                                                                                \u001b[16;1H                                                                                \u001b[17;1H                                                                                \u001b[18;1H                                                                                \u001b[19;1H                                                                                \u001b[20;1H                                                                                \u001b[21;1H                                                                                \u001b[22;1H                                                                                \u001b[23;1H                                                                                \u001b[24;1H                                                                               \u001b[24;79H\u001b[4h \u001b[4l\u001b[1;1HConfiguração de pacotes\u001b[7;2H\u001b[30m\u001b[47m┌──────────────────────┤ \u001b[31mConfigurando postgresql-14\u001b[30m ├───────────────────────┐\u001b[8;2H│                                                                           │\u001b[37m\u001b[40m \u001b[9;2H\u001b[30m\u001b[47m│ Remover o pacote do servidor PostgreSQL deixará os \"clusters\" de bancos   │\u001b[37m\u001b[40m \u001b[10;2H\u001b[30m\u001b[47m│ de dados existentes intactos, ou seja, suas configurações, dados e        │\u001b[37m\u001b[40m \u001b[11;2H\u001b[30m\u001b[47m│ diretórios de log não serão removidos. Ao expurgar o pacote, os           │\u001b[37m\u001b[40m \u001b[12;2H\u001b[30m\u001b[47m│ diretórios podem ser opcionalmente removidos.                             │\u001b[37m\u001b[40m \u001b[13;2H\u001b[30m\u001b[47m│                                                                           │\u001b[37m\u001b[40m \u001b[14;2H\u001b[30m\u001b[47m│ Remover diretórios do PostgreSQL ao expurgar o pacote?                    │\u001b[37m\u001b[40m \u001b[15;2H\u001b[30m\u001b[47m│                                                                           │\u001b[37m\u001b[40m \u001b[16;2H\u001b[30m\u001b[47m│                    \u001b[37m\u001b[41m<Sim>\u001b[30m\u001b[47m                       <Não>                      │\u001b[37m\u001b[40m \u001b[17;2H\u001b[30m\u001b[47m│                                                                           │\u001b[37m\u001b[40m \u001b[18;2H\u001b[30m\u001b[47m└───────────────────────────────────────────────────────────────────────────┘\u001b[37m\u001b[40m \u001b[19;3H                                                                             \u001b[16;24H"
     ]
    }
   ],
   "source": [
    "%%bash\n",
    "# Parar o serviço do PostgreSQL, caso esteja em execução\n",
    "sudo systemctl stop postgresql \n",
    "\n",
    "# Remover pacotes relacionados ao PostgreSQL\n",
    "sudo apt-get --purge remove postgresql*\n",
    "\n",
    "# Remover pacotes que não são mais necessários\n",
    "sudo apt-get autoremove\n",
    "\n",
    "# Limpar pacotes desnecessários\n",
    "sudo apt-get autoclean\n",
    "\n",
    "# Remover diretórios de dados do PostgreSQL\n",
    "sudo rm -rf /var/lib/postgresql/\n",
    "\n",
    "# Remover configurações do PostgreSQL\n",
    "sudo rm -rf /etc/postgresql/\n",
    "\n",
    "# Verificar a versão do PostgreSQL instalada (se existir)\n",
    "psql --version"
   ]
  },
  {
   "cell_type": "markdown",
   "metadata": {},
   "source": [
    "- clonagem do repositório, junto dos comandos iniciais"
   ]
  },
  {
   "cell_type": "code",
   "execution_count": 1,
   "metadata": {},
   "outputs": [
    {
     "name": "stdout",
     "output_type": "stream",
     "text": [
      "Cloning into 'tpch-pgsql'...\n",
      "remote: Enumerating objects: 164, done.\u001b[K\n",
      "remote: Counting objects: 100% (4/4), done.\u001b[K\n",
      "remote: Compressing objects: 100% (4/4), done.\u001b[K\n",
      "remote: Total 164 (delta 0), reused 0 (delta 0), pack-reused 160 (from 1)\u001b[K\n",
      "Receiving objects: 100% (164/164), 774.38 KiB | 331.00 KiB/s, done.\n",
      "Resolving deltas: 100% (69/69), done.\n"
     ]
    }
   ],
   "source": [
    "!git clone https://github.com/foliveirafilho/tpch-pgsql.git\n",
    "!cp teste.ipynb tpch-pgsql\n",
    "!cd tpch-pgsql\n",
    "!wget -q https://github.com/electrum/tpch-dbgen/archive/32f1c1b92d1664dba542e927d23d86ffa57aa253.zip -O tpch-dbgen.zip\n",
    "!unzip -q tpch-dbgen.zip && mv tpch-dbgen-32f1c1b92d1664dba542e927d23d86ffa57aa253 tpch-dbgen && rm tpch-dbgen.zip\n",
    "!mv tpch-dbgen tpch-pgsql"
   ]
  },
  {
   "cell_type": "markdown",
   "metadata": {},
   "source": [
    "- reinstalação do postgres"
   ]
  },
  {
   "cell_type": "code",
   "execution_count": 3,
   "metadata": {},
   "outputs": [
    {
     "name": "stdout",
     "output_type": "stream",
     "text": [
      "Lendo listas de pacotes... Pronto\n",
      "Construindo árvore de dependências... Pronto\n",
      "Lendo informação de estado... Pronto        \n",
      "Os pacotes adicionais seguintes serão instalados:\n",
      "  libcommon-sense-perl libjson-perl libjson-xs-perl libllvm14 libpq5\n",
      "  libtypes-serialiser-perl postgresql-14 postgresql-client-14\n",
      "  postgresql-client-common postgresql-common\n",
      "Pacotes sugeridos:\n",
      "  postgresql-doc postgresql-doc-14\n",
      "Os NOVOS pacotes a seguir serão instalados:\n",
      "  libcommon-sense-perl libjson-perl libjson-xs-perl libllvm14 libpq5\n",
      "  libtypes-serialiser-perl postgresql postgresql-14 postgresql-client-14\n",
      "  postgresql-client-common postgresql-common postgresql-contrib\n",
      "0 pacotes atualizados, 12 pacotes novos instalados, 0 a serem removidos e 0 não atualizados.\n",
      "É preciso baixar 0 B/41,9 MB de arquivos.\n",
      "Depois desta operação, 160 MB adicionais de espaço em disco serão usados.\n",
      "Pré-configurando pacotes ...\n",
      "A seleccionar pacote anteriormente não seleccionado libcommon-sense-perl:amd64.\n",
      "(Lendo banco de dados ... 326106 ficheiros e directórios actualmente instalados.)\n",
      "A preparar para desempacotar .../00-libcommon-sense-perl_3.75-2build1_amd64.deb ...\n",
      "A descompactar libcommon-sense-perl:amd64 (3.75-2build1) ...\n",
      "A seleccionar pacote anteriormente não seleccionado libjson-perl.\n",
      "A preparar para desempacotar .../01-libjson-perl_4.04000-1_all.deb ...\n",
      "A descompactar libjson-perl (4.04000-1) ...\n",
      "A seleccionar pacote anteriormente não seleccionado libtypes-serialiser-perl.\n",
      "A preparar para desempacotar .../02-libtypes-serialiser-perl_1.01-1_all.deb ...\n",
      "A descompactar libtypes-serialiser-perl (1.01-1) ...\n",
      "A seleccionar pacote anteriormente não seleccionado libjson-xs-perl.\n",
      "A preparar para desempacotar .../03-libjson-xs-perl_4.030-1build3_amd64.deb ...\n",
      "A descompactar libjson-xs-perl (4.030-1build3) ...\n",
      "A seleccionar pacote anteriormente não seleccionado libllvm14:amd64.\n",
      "A preparar para desempacotar .../04-libllvm14_1%3a14.0.0-1ubuntu1.1_amd64.deb ...\n",
      "A descompactar libllvm14:amd64 (1:14.0.0-1ubuntu1.1) ...\n",
      "A seleccionar pacote anteriormente não seleccionado libpq5:amd64.\n",
      "A preparar para desempacotar .../05-libpq5_14.13-0ubuntu0.22.04.1_amd64.deb ...\n",
      "A descompactar libpq5:amd64 (14.13-0ubuntu0.22.04.1) ...\n",
      "A seleccionar pacote anteriormente não seleccionado postgresql-client-common.\n",
      "A preparar para desempacotar .../06-postgresql-client-common_238_all.deb ...\n",
      "A descompactar postgresql-client-common (238) ...\n",
      "A seleccionar pacote anteriormente não seleccionado postgresql-client-14.\n",
      "A preparar para desempacotar .../07-postgresql-client-14_14.13-0ubuntu0.22.04.1_amd64.deb ...\n",
      "A descompactar postgresql-client-14 (14.13-0ubuntu0.22.04.1) ...\n",
      "A seleccionar pacote anteriormente não seleccionado postgresql-common.\n",
      "A preparar para desempacotar .../08-postgresql-common_238_all.deb ...\n",
      "A acrescentar 'desvio de /usr/bin/pg_config para /usr/bin/pg_config.libpq-dev por postgresql-common'\n",
      "A descompactar postgresql-common (238) ...\n",
      "A seleccionar pacote anteriormente não seleccionado postgresql-14.\n",
      "A preparar para desempacotar .../09-postgresql-14_14.13-0ubuntu0.22.04.1_amd64.deb ...\n",
      "A descompactar postgresql-14 (14.13-0ubuntu0.22.04.1) ...\n",
      "A seleccionar pacote anteriormente não seleccionado postgresql.\n",
      "A preparar para desempacotar .../10-postgresql_14+238_all.deb ...\n",
      "A descompactar postgresql (14+238) ...\n",
      "A seleccionar pacote anteriormente não seleccionado postgresql-contrib.\n",
      "A preparar para desempacotar .../11-postgresql-contrib_14+238_all.deb ...\n",
      "A descompactar postgresql-contrib (14+238) ...\n",
      "Configurando postgresql-client-common (238) ...\n",
      "Configurando libpq5:amd64 (14.13-0ubuntu0.22.04.1) ...\n",
      "Configurando libcommon-sense-perl:amd64 (3.75-2build1) ...\n",
      "Configurando postgresql-client-14 (14.13-0ubuntu0.22.04.1) ...\n",
      "update-alternatives: a usar /usr/share/postgresql/14/man/man1/psql.1.gz para disponibilizar /usr/share/man/man1/psql.1.gz (psql.1.gz) em modo auto\n",
      "Configurando libllvm14:amd64 (1:14.0.0-1ubuntu1.1) ...\n",
      "Configurando libtypes-serialiser-perl (1.01-1) ...\n",
      "Configurando libjson-perl (4.04000-1) ...\n",
      "Configurando libjson-xs-perl (4.030-1build3) ...\n",
      "Configurando postgresql-common (238) ...\n",
      "supported-versions: WARNING! Unknown distribution: zorin\n",
      "ubuntu found in ID_LIKE, treating as Ubuntu\n",
      "supported-versions: WARNING: Unknown Ubuntu release: 17\n",
      "Configurando postgresql-14 (14.13-0ubuntu0.22.04.1) ...\n",
      "Creating new PostgreSQL cluster 14/main ...\n",
      "/usr/lib/postgresql/14/bin/initdb -D /var/lib/postgresql/14/main --auth-local peer --auth-host scram-sha-256 --no-instructions\n",
      "The files belonging to this database system will be owned by user \"postgres\".\n",
      "This user must also own the server process.\n",
      "\n",
      "The database cluster will be initialized with locale \"pt_BR.UTF-8\".\n",
      "The default database encoding has accordingly been set to \"UTF8\".\n",
      "The default text search configuration will be set to \"portuguese\".\n",
      "\n",
      "Data page checksums are disabled.\n",
      "\n",
      "fixing permissions on existing directory /var/lib/postgresql/14/main ... ok\n",
      "creating subdirectories ... ok\n",
      "selecting dynamic shared memory implementation ... posix\n",
      "selecting default max_connections ... 100\n",
      "selecting default shared_buffers ... 128MB\n",
      "selecting default time zone ... America/Manaus\n",
      "creating configuration files ... ok\n",
      "running bootstrap script ... ok\n",
      "performing post-bootstrap initialization ... ok\n",
      "syncing data to disk ... ok\n",
      "update-alternatives: a usar /usr/share/postgresql/14/man/man1/postmaster.1.gz para disponibilizar /usr/share/man/man1/postmaster.1.gz (postmaster.1.gz) em modo auto\n",
      "Configurando postgresql-contrib (14+238) ...\n",
      "Configurando postgresql (14+238) ...\n",
      "A processar 'triggers' para man-db (2.10.2-1) ...\n",
      "A processar 'triggers' para libc-bin (2.35-0ubuntu3.8) ...\n"
     ]
    }
   ],
   "source": [
    "!sudo apt-get install -y postgresql postgresql-contrib\n"
   ]
  },
  {
   "cell_type": "markdown",
   "metadata": {},
   "source": [
    "- verificação das versões"
   ]
  },
  {
   "cell_type": "code",
   "execution_count": 4,
   "metadata": {},
   "outputs": [
    {
     "name": "stdout",
     "output_type": "stream",
     "text": [
      "gcc (Ubuntu 11.4.0-1ubuntu1~22.04) 11.4.0\n",
      "Copyright (C) 2021 Free Software Foundation, Inc.\n",
      "This is free software; see the source for copying conditions.  There is NO\n",
      "warranty; not even for MERCHANTABILITY or FITNESS FOR A PARTICULAR PURPOSE.\n",
      "\n"
     ]
    },
    {
     "name": "stdout",
     "output_type": "stream",
     "text": [
      "Python 3.10.12\n",
      "PostgreSQL 14.13 (Ubuntu 14.13-0ubuntu0.22.04.1)\n"
     ]
    }
   ],
   "source": [
    "!gcc --version\n",
    "!python3 --version\n",
    "!pg_config --version\n"
   ]
  },
  {
   "cell_type": "markdown",
   "metadata": {},
   "source": [
    "## Passo a passo repositório"
   ]
  },
  {
   "cell_type": "markdown",
   "metadata": {},
   "source": [
    "- instalação do programa "
   ]
  },
  {
   "cell_type": "code",
   "execution_count": 4,
   "metadata": {},
   "outputs": [
    {
     "name": "stdout",
     "output_type": "stream",
     "text": [
      "Defaulting to user installation because normal site-packages is not writeable\n",
      "Requirement already satisfied: psycopg2-binary in /home/zico/.local/lib/python3.10/site-packages (from -r requirements.txt (line 1)) (2.9.10)\n",
      "Requirement already satisfied: mock in /home/zico/.local/lib/python3.10/site-packages (from -r requirements.txt (line 2)) (5.1.0)\n"
     ]
    }
   ],
   "source": [
    "!pip3 install -r requirements.txt"
   ]
  },
  {
   "cell_type": "markdown",
   "metadata": {},
   "source": [
    "- Criação de usuário no postgres"
   ]
  },
  {
   "cell_type": "code",
   "execution_count": 5,
   "metadata": {},
   "outputs": [
    {
     "name": "stdout",
     "output_type": "stream",
     "text": [
      "could not change directory to \"/home/zico/.local/share/Trash/files/tpch-pgsql\": Permissão negada\n",
      "could not change directory to \"/home/zico/.local/share/Trash/files/tpch-pgsql\": Permissão negada\n",
      "could not change directory to \"/home/zico/.local/share/Trash/files/tpch-pgsql\": Permissão negada\n",
      "ALTER ROLE\n",
      "could not change directory to \"/home/zico/.local/share/Trash/files/tpch-pgsql\": Permissão negada\n",
      "GRANT\n",
      "                                  List of databases\n",
      "   Name    |  Owner   | Encoding |   Collate   |    Ctype    |   Access privileges   \n",
      "-----------+----------+----------+-------------+-------------+-----------------------\n",
      " postgres  | postgres | UTF8     | pt_BR.UTF-8 | pt_BR.UTF-8 | \n",
      " template0 | postgres | UTF8     | pt_BR.UTF-8 | pt_BR.UTF-8 | =c/postgres          +\n",
      "           |          |          |             |             | postgres=CTc/postgres\n",
      " template1 | postgres | UTF8     | pt_BR.UTF-8 | pt_BR.UTF-8 | =c/postgres          +\n",
      "           |          |          |             |             | postgres=CTc/postgres\n",
      " tpchdb    | postgres | UTF8     | pt_BR.UTF-8 | pt_BR.UTF-8 | =Tc/postgres         +\n",
      "           |          |          |             |             | postgres=CTc/postgres+\n",
      "           |          |          |             |             | tpch=CTc/postgres\n",
      "(4 rows)\n",
      "\n"
     ]
    }
   ],
   "source": [
    "!sudo -u postgres createuser tpch\n",
    "!sudo -u postgres createdb tpchdb\n",
    "!sudo -u postgres psql -c \"ALTER USER tpch WITH ENCRYPTED PASSWORD '1234';\"\n",
    "!sudo -u postgres psql -c \"GRANT ALL PRIVILEGES ON DATABASE tpchdb TO tpch;\"\n",
    "!PGPASSWORD=1234 psql -h localhost -p 5432 -d tpchdb -U tpch -c \"\\l\"\n"
   ]
  },
  {
   "cell_type": "markdown",
   "metadata": {},
   "source": [
    "- rodando o programa (comparar com a versão do jhon)"
   ]
  },
  {
   "cell_type": "code",
   "execution_count": 6,
   "metadata": {},
   "outputs": [
    {
     "name": "stdout",
     "output_type": "stream",
     "text": [
      "make: Nada a ser feito para 'all'.\n",
      "built dbgen from source\n",
      "TPC-H Population Generator (Version 2.14.0)\n",
      "Copyright Transaction Processing Performance Council 1994 - 2010\n",
      "Generating data for suppliers table\n",
      "Preloading text ...                                                                                                                                                                                                                                                                                                              1 1 1 1 1 1 1 1 1 1 1 1 1 1 1 1 1 1 1 1 1 1 1 1 1 1 1 1 1 1 1 1 1 1 1 1 1 1 1 1 1 1 1 1 1 1 1 1 1 1 1 1 1 1 1 1 1 1 1 1 1 1 1 1 1 1 1 1 1 1 1 1 1 1 1 1 1 1 1 1 1 1 1 1 1 1 1 1 1 1 1 1 1 1 1 1 1 1 1 1 1 1 1 1 1 1 1 1 1 1 1 1 1 1 1 1 1 1 1 1 1 1 1 1 1 1 1 1 1 1 1 1 1 1 1 1 1 1 1 1 1 1 1 1 1 1 1 1 1 1 1 1 1 1 1 1 1 2 2 2 2 2 2 2 2 2 2 2 2 2 2 2 2 2 2 2 2 2 2 2 2 2 2 2 2 2 2 2 2 2 2 2 2 2 2 2 2 2 2 2 2 2 2 2 2 2 2 2 2 2 2 2 2 2 2 2 2 2 2 2 2 2 2 2 2 2 2 2 2 2 2 2 2 2 2 2 2 2 2 2 2 2 2 2 2 2 2 2 2 2 2 2 2 2 2 2 2 2 2 2 2 2 2 2 2 2 2 2 2 2 2 2 2 2 2 2 2 2 2 2 2 2 2 2 2 2 2 2 2 2 2 2 2 2 2 2 2 2 2 2 2 2 2 2 2 2 2 2 2 2 2 2 2 2 3 3 3 3 3 3 3 3 3 3 3 3 3 3 3 3 3 3 3 3 3 3 3 3 3 3 3 3 3 3 3 3 3 3 3 3 3 3 3 3 3 3 3 3 3 3 3 3 3 3 3 3 3 3 3 3 3 3 3 3 3 3 3 3 3 3 3 3 3 3 3 3 3 3 3 3 3 3 3 3 3 3 3 3 3 3 3 3 3 3 3 3 3 3 3 3 3 3 3 3 3 3 3 3 3 3 3 3 3 3 3 3 3 3 3 3 3 3 3 3 3 3 3 3 3 3 3 3 3 3 3 3 3 3 3 3 3 3 3 3 3 3 3 3 3 3 3 3 3 3 3 3 3 3 3 3 3 3 4 4 4 4 4 4 4 4 4 4 4 4 4 4 4 4 4 4 4 4 4 4 4 4 4 4 4 4 4 4 4 4 4 4 4 4 4 4 4 4 4 4 4 4 4 4 4 4 4 4 4 4 4 4 4 4 4 4 4 4 4 4 4 4 4 4 4 4 4 4 4 4 4 4 4 4 4 4 4 4 4 4 4 4 4 4 4 4 4 4 4 4 4 4 4 4 4 4 4 4 4 4 4 4 4 4 4 4 4 4 4 4 4 4 4 4 4 4 4 4 4 4 4 4 4 4 4 4 4 4 4 4 4 4 4 4 4 4 4 4 4 4 4 4 4 4 4 4 4 4 4 4 4 4 4 4 4 5 5 5 5 5 5 5 5 5 5 5 5 5 5 5 5 5 5 5 5 5 5 5 5 5 5 5 5 5 5 5 5 5 5 5 5 5 5 5 5 5 5 5 5 5 5 5 5 5 5 5 5 5 5 5 5 5 5 5 5 5 5 5 5 5 5 5 5 5 5 5 5 5 5 5 5 5 5 5 5 5 5 5 5 5 5 5 5 5 5 5 5 5 5 5 5 5 5 5 5 5 5 5 5 5 5 5 5 5 5 5 5 5 5 5 5 5 5 5 5 5 5 5 5 5 5 5 5 5 5 5 5 5 5 5 5 5 5 5 5 5 5 5 5 5 5 5 5 5 5 5 5 5 5 5 5 5 6 6 6 6 6 6 6 6 6 6 6 6 6 6 6 6 6 6 6 6 6 6 6 6 6 6 6 6 6 6 6 6 6 6 6 6 6 6 6 6 6 6 6 6 6 6 6 6 6 6 6 6 6 6 6 6 6 6 6 6 6 6 6 6 6 6 6 6 6 6 6 6 6 6 6 6 6 6 6 6 6 6 6 6 6 6 6 6 6 6 6 6 6 6 6 6 6 6 6 6 6 6 6 6 6 6 6 6 6 6 6 6 6 6 6 6 6 6 6 6 6 6 6 6 6 6 6 6 6 6 6 6 6 6 6 6 6 6 6 6 6 6 6 6 6 6 6 6 6 6 6 6 6 6 6 6 6 6 7 7 7 7 7 7 7 7 7 7 7 7 7 7 7 7 7 7 7 7 7 7 7 7 7 7 7 7 7 7 7 7 7 7 7 7 7 7 7 7 7 7 7 7 7 7 7 7 7 7 7 7 7 7 7 7 7 7 7 7 7 7 7 7 7 7 7 7 7 7 7 7 7 7 7 7 7 7 7 7 7 7 7 7 7 7 7 7 7 7 7 7 7 7 7 7 7 7 7 7 7 7 7 7 7 7 7 7 7 7 7 7 7 7 7 7 7 7 7 7 7 7 7 7 7 7 7 7 7 7 7 7 7 7 7 7 7 7 7 7 7 7 7 7 7 7 7 7 7 7 7 7 7 7 7 7 7 8 8 8 8 8 8 8 8 8 8 8 8 8 8 8 8 8 8 8 8 8 8 8 8 8 8 8 8 8 8 8 8 8 8 8 8 8 8 8 8 8 8 8 8 8 8 8 8 8 8 8 8 8 8 8 8 8 8 8 8 8 8 8 8 8 8 8 8 8 8 8 8 8 8 8 8 8 8 8 8 8 8 8 8 8 8 8 8 8 8 8 8 8 8 8 8 8 8 8 8 8 8 8 8 8 8 8 8 8 8 8 8 8 8 8 8 8 8 8 8 8 8 8 8 8 8 8 8 8 8 8 8 8 8 8 8 8 8 8 8 8 8 8 8 8 8 8 8 8 8 8 8 8 8 8 8 8 9 9 9 9 9 9 9 9 9 9 9 9 9 9 9 9 9 9 9 9 9 9 9 9 9 9 9 9 9 9 9 9 9 9 9 9 9 9 9 9 9 9 9 9 9 9 9 9 9 9 9 9 9 9 9 9 9 9 9 9 9 9 9 9 9 9 9 9 9 9 9 9 9 9 9 9 9 9 9 9 9 9 9 9 9 9 9 9 9 9 9 9 9 9 9 9 9 9 9 9 9 9 9 9 9 9 9 9 9 9 9 9 9 9 9 9 9 9 9 9 9 9 9 9 9 9 9 9 9 9 9 9 9 9 9 9 9 9 9 9 9 9 9 9 9 9 9 9 9 9 9 9 9 9 9 9 91010101010101010\n",
      "done.\n",
      "Generating data for customers tabledone.\n",
      "Generating data for orders/lineitem tablesdone.\n",
      "Generating data for part/partsupplier tablesdone.\n",
      "Generating data for nation tabledone.\n",
      "Generating data for region tabledone.\n",
      "generated data for the load phase\n",
      "TPC-H Population Generator (Version 2.14.0)\n",
      "Copyright Transaction Processing Performance Council 1994 - 2010\n",
      "Generating update pair #1 for orders/lineitem tables\n",
      "Preloading text ...                                                                                                                                                                                                                                                                                                              1 1 1 1 1 1 1 1 1 1 1 1 1 1 1 1 1 1 1 1 1 1 1 1 1 1 1 1 1 1 1 1 1 1 1 1 1 1 1 1 1 1 1 1 1 1 1 1 1 1 1 1 1 1 1 1 1 1 1 1 1 1 1 1 1 1 1 1 1 1 1 1 1 1 1 1 1 1 1 1 1 1 1 1 1 1 1 1 1 1 1 1 1 1 1 1 1 1 1 1 1 1 1 1 1 1 1 1 1 1 1 1 1 1 1 1 1 1 1 1 1 1 1 1 1 1 1 1 1 1 1 1 1 1 1 1 1 1 1 1 1 1 1 1 1 1 1 1 1 1 1 1 1 1 1 1 1 2 2 2 2 2 2 2 2 2 2 2 2 2 2 2 2 2 2 2 2 2 2 2 2 2 2 2 2 2 2 2 2 2 2 2 2 2 2 2 2 2 2 2 2 2 2 2 2 2 2 2 2 2 2 2 2 2 2 2 2 2 2 2 2 2 2 2 2 2 2 2 2 2 2 2 2 2 2 2 2 2 2 2 2 2 2 2 2 2 2 2 2 2 2 2 2 2 2 2 2 2 2 2 2 2 2 2 2 2 2 2 2 2 2 2 2 2 2 2 2 2 2 2 2 2 2 2 2 2 2 2 2 2 2 2 2 2 2 2 2 2 2 2 2 2 2 2 2 2 2 2 2 2 2 2 2 2 3 3 3 3 3 3 3 3 3 3 3 3 3 3 3 3 3 3 3 3 3 3 3 3 3 3 3 3 3 3 3 3 3 3 3 3 3 3 3 3 3 3 3 3 3 3 3 3 3 3 3 3 3 3 3 3 3 3 3 3 3 3 3 3 3 3 3 3 3 3 3 3 3 3 3 3 3 3 3 3 3 3 3 3 3 3 3 3 3 3 3 3 3 3 3 3 3 3 3 3 3 3 3 3 3 3 3 3 3 3 3 3 3 3 3 3 3 3 3 3 3 3 3 3 3 3 3 3 3 3 3 3 3 3 3 3 3 3 3 3 3 3 3 3 3 3 3 3 3 3 3 3 3 3 3 3 3 3 4 4 4 4 4 4 4 4 4 4 4 4 4 4 4 4 4 4 4 4 4 4 4 4 4 4 4 4 4 4 4 4 4 4 4 4 4 4 4 4 4 4 4 4 4 4 4 4 4 4 4 4 4 4 4 4 4 4 4 4 4 4 4 4 4 4 4 4 4 4 4 4 4 4 4 4 4 4 4 4 4 4 4 4 4 4 4 4 4 4 4 4 4 4 4 4 4 4 4 4 4 4 4 4 4 4 4 4 4 4 4 4 4 4 4 4 4 4 4 4 4 4 4 4 4 4 4 4 4 4 4 4 4 4 4 4 4 4 4 4 4 4 4 4 4 4 4 4 4 4 4 4 4 4 4 4 4 5 5 5 5 5 5 5 5 5 5 5 5 5 5 5 5 5 5 5 5 5 5 5 5 5 5 5 5 5 5 5 5 5 5 5 5 5 5 5 5 5 5 5 5 5 5 5 5 5 5 5 5 5 5 5 5 5 5 5 5 5 5 5 5 5 5 5 5 5 5 5 5 5 5 5 5 5 5 5 5 5 5 5 5 5 5 5 5 5 5 5 5 5 5 5 5 5 5 5 5 5 5 5 5 5 5 5 5 5 5 5 5 5 5 5 5 5 5 5 5 5 5 5 5 5 5 5 5 5 5 5 5 5 5 5 5 5 5 5 5 5 5 5 5 5 5 5 5 5 5 5 5 5 5 5 5 5 6 6 6 6 6 6 6 6 6 6 6 6 6 6 6 6 6 6 6 6 6 6 6 6 6 6 6 6 6 6 6 6 6 6 6 6 6 6 6 6 6 6 6 6 6 6 6 6 6 6 6 6 6 6 6 6 6 6 6 6 6 6 6 6 6 6 6 6 6 6 6 6 6 6 6 6 6 6 6 6 6 6 6 6 6 6 6 6 6 6 6 6 6 6 6 6 6 6 6 6 6 6 6 6 6 6 6 6 6 6 6 6 6 6 6 6 6 6 6 6 6 6 6 6 6 6 6 6 6 6 6 6 6 6 6 6 6 6 6 6 6 6 6 6 6 6 6 6 6 6 6 6 6 6 6 6 6 6 7 7 7 7 7 7 7 7 7 7 7 7 7 7 7 7 7 7 7 7 7 7 7 7 7 7 7 7 7 7 7 7 7 7 7 7 7 7 7 7 7 7 7 7 7 7 7 7 7 7 7 7 7 7 7 7 7 7 7 7 7 7 7 7 7 7 7 7 7 7 7 7 7 7 7 7 7 7 7 7 7 7 7 7 7 7 7 7 7 7 7 7 7 7 7 7 7 7 7 7 7 7 7 7 7 7 7 7 7 7 7 7 7 7 7 7 7 7 7 7 7 7 7 7 7 7 7 7 7 7 7 7 7 7 7 7 7 7 7 7 7 7 7 7 7 7 7 7 7 7 7 7 7 7 7 7 7 8 8 8 8 8 8 8 8 8 8 8 8 8 8 8 8 8 8 8 8 8 8 8 8 8 8 8 8 8 8 8 8 8 8 8 8 8 8 8 8 8 8 8 8 8 8 8 8 8 8 8 8 8 8 8 8 8 8 8 8 8 8 8 8 8 8 8 8 8 8 8 8 8 8 8 8 8 8 8 8 8 8 8 8 8 8 8 8 8 8 8 8 8 8 8 8 8 8 8 8 8 8 8 8 8 8 8 8 8 8 8 8 8 8 8 8 8 8 8 8 8 8 8 8 8 8 8 8 8 8 8 8 8 8 8 8 8 8 8 8 8 8 8 8 8 8 8 8 8 8 8 8 8 8 8 8 8 9 9 9 9 9 9 9 9 9 9 9 9 9 9 9 9 9 9 9 9 9 9 9 9 9 9 9 9 9 9 9 9 9 9 9 9 9 9 9 9 9 9 9 9 9 9 9 9 9 9 9 9 9 9 9 9 9 9 9 9 9 9 9 9 9 9 9 9 9 9 9 9 9 9 9 9 9 9 9 9 9 9 9 9 9 9 9 9 9 9 9 9 9 9 9 9 9 9 9 9 9 9 9 9 9 9 9 9 9 9 9 9 9 9 9 9 9 9 9 9 9 9 9 9 9 9 9 9 9 9 9 9 9 9 9 9 9 9 9 9 9 9 9 9 9 9 9 9 9 9 9 9 9 9 9 9 91010101010101010\n",
      "done.\n",
      "Generating update pair #2 for orders/lineitem tablesdone.\n",
      "Generating update pair #3 for orders/lineitem tablesdone.\n",
      "generated data for the update phase\n",
      "generated data for the delete phase\n",
      "created data files in ./data\n",
      "created query files in ./query_root\n",
      "dropped existing tables\n",
      "cleaned database tpchdb\n",
      "done creating schemas\n",
      "done loading data to tables\n",
      "done creating indexes and foreign keys\n",
      "============================================================\n",
      "=========================== Load ===========================\n",
      "============================================================\n",
      "create_schema: : 0:00:00.038640\n",
      "load_data: 0:00:35.748428\n",
      "index_tables: 0:00:29.890878\n",
      "============================================================\n",
      "======================= End Results ========================\n",
      "============================================================\n",
      "Power tests started ...\n",
      "Power tests finished.\n",
      "Throughput tests started ...\n",
      "Throughput tests in stream #1 started ...\n",
      "Throughput tests in stream #2 started ...\n",
      "Throughput tests finished.\n",
      "done performance tests\n",
      "Power@Size = 3391.381551201984\n",
      "Throughput@Size = 3331.29936195943\n",
      "QphH@Size = 3361.206211716287\n",
      "============================================================\n",
      "========================= Metrics ==========================\n",
      "============================================================\n",
      "power_size: 3391.381551201984\n",
      "throughput_size: 3331.29936195943\n",
      "qphh_size: 3361.206211716287\n",
      "============================================================\n",
      "======================= End Results ========================\n",
      "============================================================\n"
     ]
    }
   ],
   "source": [
    "!python3 tpch_pgsql.py prepare -H localhost -p 5432 -U tpch -W '1234' -d tpchdb -i ./data\n",
    "#executando  com tpch-dbgen dentro de tpch-pgsql\n",
    "#deu certo\n",
    "#passo 3\n",
    "\n",
    "!python3 tpch_pgsql.py load -H localhost -p 5432 -U tpch -W '1234' -d tpchdb\n",
    "#passo 3\n",
    "\n",
    "!python3 tpch_pgsql.py query -H localhost -p 5432 -U tpch -W '1234' -d tpchdb\n",
    "#passo 3"
   ]
  },
  {
   "cell_type": "markdown",
   "metadata": {},
   "source": [
    "## Tarefa 4: identificação do sistema"
   ]
  },
  {
   "cell_type": "code",
   "execution_count": 72,
   "metadata": {},
   "outputs": [
    {
     "name": "stdout",
     "output_type": "stream",
     "text": [
      "--------------------NOME PROCESS--------------\n"
     ]
    },
    {
     "name": "stdout",
     "output_type": "stream",
     "text": [
      "Nome do modelo:                       12th Gen Intel(R) Core(TM) i5-12450H\n",
      "\n",
      "---------------RAM------------------\n",
      "               total       usada       livre    compart.  buff/cache  disponível\n",
      "Mem.:          7,5Gi       2,9Gi       728Mi       859Mi       3,8Gi       3,3Gi\n",
      "Swap:          2,0Gi       1,1Gi       928Mi\n",
      "\n",
      "---------------Disco------------------\n",
      "nvme0n1     238,5G disk\n",
      "\n",
      "---------------cache------------------\n",
      "cache de L1d:                         320 KiB (8 instances)\n",
      "cache de L1i:                         384 KiB (8 instances)\n",
      "cache de L2:                          7 MiB (5 instances)\n",
      "cache de L3:                          12 MiB (1 instance)\n",
      "\n",
      "---------------Distro------------------\n",
      "No LSB modules are available.\n",
      "Distributor ID:\tZorin\n",
      "\n",
      "---------------SO e Kernel------------------\n",
      "Linux Mengo 6.8.0-48-generic #48~22.04.1-Ubuntu SMP PREEMPT_DYNAMIC Mon Oct  7 11:24:13 UTC 2 x86_64 x86_64 x86_64 GNU/Linux\n"
     ]
    }
   ],
   "source": [
    "!echo \"--------------------NOME PROCESS--------------\"\n",
    "!lscpu | grep \"Nome\"\n",
    "!echo \"\"\n",
    "!echo \"---------------RAM------------------\"\n",
    "!free -h # Detalhes sobre a memória RAM tarefa 4\n",
    "!echo \"\"\n",
    "!echo \"---------------Disco------------------\"\n",
    "!lsblk -o NAME,SIZE,TYPE | grep \"disk\" # Detalhes sobre o disco tarefa 4\n",
    "!echo \"\"\n",
    "!echo \"---------------cache------------------\"\n",
    "!lscpu | grep -i \"cache\"  # Cache do processador tarefa 4\n",
    "!echo \"\"\n",
    "!echo \"---------------Distro------------------\"\n",
    "!lsb_release -a | grep \"Distributor\" # Detalhes da distribuição e versão do Linux tarefa 4\n",
    "!echo \"\"\n",
    "!echo \"---------------SO e Kernel------------------\"\n",
    "!uname -a # Informações sobre o Sistema Operacional e Kernel tarefa 4"
   ]
  },
  {
   "cell_type": "markdown",
   "metadata": {},
   "source": [
    "## Tarefa 5:Verificação de Parâmetros de Armazenamento (Adaptada para SSD)\n"
   ]
  },
  {
   "cell_type": "code",
   "execution_count": 73,
   "metadata": {},
   "outputs": [
    {
     "name": "stdout",
     "output_type": "stream",
     "text": [
      "---------------Capacidade Disco------------------\n",
      "nvme0n1     238,5G disk\n"
     ]
    }
   ],
   "source": [
    "!echo \"---------------Capacidade Disco------------------\"\n",
    "!lsblk -o NAME,SIZE,TYPE | grep \"disk\" "
   ]
  },
  {
   "cell_type": "code",
   "execution_count": null,
   "metadata": {},
   "outputs": [],
   "source": [
    "!sudo apt-get install smartmontools \n",
    "#programa para rodar o próximo comando\n"
   ]
  },
  {
   "cell_type": "code",
   "execution_count": 52,
   "metadata": {},
   "outputs": [
    {
     "name": "stdout",
     "output_type": "stream",
     "text": [
      "smartctl 7.2 2020-12-30 r5155 [x86_64-linux-6.8.0-48-generic] (local build)\n",
      "Copyright (C) 2002-20, Bruce Allen, Christian Franke, www.smartmontools.org\n",
      "\n",
      "=== START OF INFORMATION SECTION ===\n",
      "Model Number:                       SM2P41C8-256GC1\n",
      "Serial Number:                      KO022L1KKNGD\n",
      "Firmware Version:                   V1223C0\n",
      "PCI Vendor/Subsystem ID:            0x1cc1\n",
      "IEEE OUI Identifier:                0x707c18\n",
      "Total NVM Capacity:                 256.060.514.304 [256 GB]\n",
      "Unallocated NVM Capacity:           0\n",
      "Controller ID:                      1\n",
      "NVMe Version:                       1.4\n",
      "Number of Namespaces:               1\n",
      "Namespace 1 Size/Capacity:          256.060.514.304 [256 GB]\n",
      "Namespace 1 Formatted LBA Size:     512\n",
      "Namespace 1 IEEE EUI-64:            707c18 0002020100\n",
      "Local Time is:                      Mon Nov 11 15:52:42 2024 -04\n",
      "Firmware Updates (0x16):            3 Slots, no Reset required\n",
      "Optional Admin Commands (0x0017):   Security Format Frmw_DL Self_Test\n",
      "Optional NVM Commands (0x00df):     Comp Wr_Unc DS_Mngmt Wr_Zero Sav/Sel_Feat Timestmp Verify\n",
      "Log Page Attributes (0x1e):         Cmd_Eff_Lg Ext_Get_Lg Telmtry_Lg Pers_Ev_Lg\n",
      "Maximum Data Transfer Size:         64 Pages\n",
      "Warning  Comp. Temp. Threshold:     86 Celsius\n",
      "Critical Comp. Temp. Threshold:     93 Celsius\n",
      "\n",
      "Supported Power States\n",
      "St Op     Max   Active     Idle   RL RT WL WT  Ent_Lat  Ex_Lat\n",
      " 0 +   4.5000W       -        -    0  0  0  0        0       0\n",
      " 1 +   2.4000W       -        -    1  1  1  1        0       0\n",
      " 2 +   0.6000W       -        -    2  2  2  2        0       0\n",
      " 3 -   0.0250W       -        -    3  3  3  3     5000    5000\n",
      " 4 -   0.0040W       -        -    4  4  4  4     5000   25000\n",
      "\n",
      "Supported LBA Sizes (NSID 0x1)\n",
      "Id Fmt  Data  Metadt  Rel_Perf\n",
      " 0 +     512       0         0\n",
      "\n",
      "=== START OF SMART DATA SECTION ===\n",
      "SMART overall-health self-assessment test result: PASSED\n",
      "\n",
      "SMART/Health Information (NVMe Log 0x02)\n",
      "Critical Warning:                   0x00\n",
      "Temperature:                        26 Celsius\n",
      "Available Spare:                    100%\n",
      "Available Spare Threshold:          10%\n",
      "Percentage Used:                    0%\n",
      "Data Units Read:                    2.618.433 [1,34 TB]\n",
      "Data Units Written:                 4.782.305 [2,44 TB]\n",
      "Host Read Commands:                 30.257.396\n",
      "Host Write Commands:                53.692.281\n",
      "Controller Busy Time:               1.879\n",
      "Power Cycles:                       378\n",
      "Power On Hours:                     786\n",
      "Unsafe Shutdowns:                   46\n",
      "Media and Data Integrity Errors:    0\n",
      "Error Information Log Entries:      0\n",
      "Warning  Comp. Temperature Time:    0\n",
      "Critical Comp. Temperature Time:    0\n",
      "Temperature Sensor 1:               26 Celsius\n",
      "Temperature Sensor 2:               35 Celsius\n",
      "\n",
      "Error Information (NVMe Log 0x01, 16 of 256 entries)\n",
      "No Errors Logged\n",
      "\n"
     ]
    }
   ],
   "source": [
    "# Verificando informações de latência do SSD usando smartctl\n",
    "!sudo smartctl -a /dev/nvme0n1 #mudar o /dev/... pelo nome do ssd do computador"
   ]
  },
  {
   "cell_type": "code",
   "execution_count": 32,
   "metadata": {},
   "outputs": [
    {
     "name": "stdout",
     "output_type": "stream",
     "text": [
      "\n",
      "/dev/nvme0n1:\n",
      " Timing cached reads:   10272 MB in  2.00 seconds = 5142.22 MB/sec\n",
      " Timing buffered disk reads: 3318 MB in  3.00 seconds = 1105.80 MB/sec\n"
     ]
    }
   ],
   "source": [
    "# Taxa de transferência de leitura do SSD\n",
    "!sudo hdparm -tT /dev/nvme0n1\n"
   ]
  },
  {
   "cell_type": "code",
   "execution_count": 33,
   "metadata": {},
   "outputs": [
    {
     "name": "stdout",
     "output_type": "stream",
     "text": [
      "Data Units Written:                 4.781.530 [2,44 TB]\n"
     ]
    }
   ],
   "source": [
    "# Verificando a vida útil (TBW) do SSD\n",
    "!sudo smartctl -A /dev/nvme0n1 | grep \"Data Units Written\"\n"
   ]
  },
  {
   "cell_type": "code",
   "execution_count": null,
   "metadata": {},
   "outputs": [
    {
     "name": "stdout",
     "output_type": "stream",
     "text": [
      "smartctl 7.2 2020-12-30 r5155 [x86_64-linux-6.8.0-48-generic] (local build)\n",
      "Copyright (C) 2002-20, Bruce Allen, Christian Franke, www.smartmontools.org\n",
      "\n",
      "=== START OF INFORMATION SECTION ===\n",
      "Model Number:                       SM2P41C8-256GC1\n",
      "Serial Number:                      KO022L1KKNGD\n",
      "Firmware Version:                   V1223C0\n",
      "PCI Vendor/Subsystem ID:            0x1cc1\n",
      "IEEE OUI Identifier:                0x707c18\n",
      "Total NVM Capacity:                 256.060.514.304 [256 GB]\n",
      "Unallocated NVM Capacity:           0\n",
      "Controller ID:                      1\n",
      "NVMe Version:                       1.4\n",
      "Number of Namespaces:               1\n",
      "Namespace 1 Size/Capacity:          256.060.514.304 [256 GB]\n",
      "Namespace 1 Formatted LBA Size:     512\n",
      "Namespace 1 IEEE EUI-64:            707c18 0002020100\n",
      "Local Time is:                      Mon Nov 11 15:22:11 2024 -04\n",
      "\n"
     ]
    }
   ],
   "source": [
    "# Tipo de memória utilizada no SSD (se disponível)\n",
    "!sudo smartctl -i /dev/nvme0n1\n",
    "#ultima 5. a)"
   ]
  },
  {
   "cell_type": "code",
   "execution_count": 43,
   "metadata": {},
   "outputs": [
    {
     "name": "stdout",
     "output_type": "stream",
     "text": [
      "\n",
      "/dev/nvme0n1:\n",
      " readonly      =  0 (off)\n",
      " readahead     = 256 (on)\n",
      " geometry      = 244198/64/32, sectors = 500118192, start = 0\n"
     ]
    }
   ],
   "source": [
    "# Verificando o modo de leitura e gravação do SSD usando hdparm\n",
    "!sudo hdparm /dev/nvme0n1 \n"
   ]
  },
  {
   "cell_type": "code",
   "execution_count": 45,
   "metadata": {},
   "outputs": [],
   "source": [
    "# Verificando a ativação do TRIM no SSD usando smartctl\n",
    "!sudo smartctl -i /dev/nvme0n1 | grep \"TRIM\"\n"
   ]
  },
  {
   "cell_type": "code",
   "execution_count": 48,
   "metadata": {},
   "outputs": [],
   "source": [
    "\n",
    "# Verificar TRIM usando hdparm\n",
    "!sudo hdparm -I /dev/nvme0n1 | grep \"TRIM\""
   ]
  },
  {
   "cell_type": "markdown",
   "metadata": {},
   "source": [
    "### Tarefa 6\n"
   ]
  },
  {
   "cell_type": "markdown",
   "metadata": {},
   "source": [
    "### Análise do Armazenamento Físico de Dados no PostgreSQL\n",
    "\n",
    "O PostgreSQL organiza seus dados de forma complexa, distribuindo-os em diversos tipos de arquivos e diretórios, cada um com uma função específica. Abaixo estão os principais conceitos e detalhes da estrutura de armazenamento físico do PostgreSQL:\n",
    "\n",
    "#### 1. Estrutura de Diretórios e Arquivos\n",
    "- **Base Directory (`/data/base/`)**: Contém um diretório para cada banco de dados.\n",
    "- **Tabelas e Índices**: Cada tabela e índice é armazenado em arquivos dedicados, divididos em blocos de 8 KB.\n",
    "- **pg_xact**: Armazena os arquivos de controle de transações (status de commit/rollback).\n",
    "- **pg_wal**: Contém os arquivos de logs WAL (Write-Ahead Logging), essenciais para a recuperação em caso de falhas.\n",
    "\n",
    "#### 2. Estrutura Interna dos Arquivos\n",
    "- **Páginas de Dados**: Os dados são armazenados em páginas de 8 KB. Cada página contém um cabeçalho, metadados e espaço para os registros da tabela.\n",
    "- **Tabelas TOAST (The Oversized-Attribute Storage Technique)**: Armazena colunas com dados grandes que excedem o limite de tamanho das páginas, como texto muito longo e BLOBs.\n",
    "\n",
    "#### 3. Gerenciamento de Espaço\n",
    "- **MVCC (Multiversion Concurrency Control)**: Através do MVCC, o PostgreSQL armazena várias versões das linhas nas tabelas, o que garante isolação das transações.\n",
    "- **Autovacuum**: Um processo que limpa as linhas que não estão mais em uso, ajudando a reduzir o espaço ocupado e a melhorar o desempenho.\n",
    "\n",
    "### Tabela Comparativa das Características de Armazenamento do PostgreSQL\n",
    "\n",
    "| Característica                        | Descrição                                                                                                                                                          |\n",
    "|--------------------------------------|--------------------------------------------------------------------------------------------------------------------------------------------------------------------|\n",
    "| **Blocos de Dados**                  | Dados armazenados em blocos de 8 KB, que contém linhas e cabeçalhos de controle.                                                                                   |\n",
    "| **MVCC**                             | Usa MVCC para controlar versões de linhas, permitindo maior concorrência entre transações.                                                                         |\n",
    "| **Tabelas TOAST**                    | Armazenam dados grandes fora da tabela principal quando excedem o limite de tamanho do bloco.                                                                      |\n",
    "| **WAL (Write-Ahead Logging)**        | Logs de transações usados para recuperação de falhas e consistência.                                                                                               |\n",
    "| **Autovacuum**                       | Limpeza automática das linhas obsoletas e manutenção de índices.                                                                                                   |\n",
    "| **pg_xact**                          | Armazena o status das transações para verificação de consistência.                                                                                                 |\n",
    "| **Estrutura de Índices**             | Índices armazenados em arquivos separados, utilizados para acesso rápido às linhas.                                                                               |\n",
    "| **Configurações de Armazenamento**   | Permite ajuste de parâmetros como o tamanho do bloco, políticas de autovacuum e tamanho do WAL.                                                                    |\n",
    "\n",
    "### Diagrama da Estrutura de Armazenamento\n",
    "\n",
    "Vamos criar um diagrama básico da estrutura de armazenamento físico do PostgreSQL usando `matplotlib` e `graphviz`.\n",
    "\n",
    "\n"
   ]
  },
  {
   "cell_type": "markdown",
   "metadata": {},
   "source": [
    "### Comparação entre Sistemas de Arquivos: Ext2, Ext3, ReiserFS e XFS\n",
    "\n",
    "Existem vários sistemas de arquivos disponíveis para Linux, cada um com suas características e vantagens. Vamos comparar os seguintes sistemas de arquivos: **Ext2**, **Ext3**, **ReiserFS** e **XFS**.\n",
    "\n",
    "#### 1. **Ext2 (Second Extended File System)**\n",
    "- **Introdução**: Lançado em 1993, o Ext2 foi o sistema de arquivos padrão do Linux por um bom tempo. Ele é conhecido por sua simplicidade e eficiência.\n",
    "- **Características**:\n",
    "  - Não possui journaling (não mantém um log de transações), o que significa que pode ser mais rápido para operações de leitura e escrita.\n",
    "  - Menos resiliente a falhas, pois não há registro de transações.\n",
    "\n",
    "#### 2. **Ext3 (Third Extended File System)**\n",
    "- **Introdução**: Lançado em 2001, o Ext3 é uma evolução do Ext2 com suporte a journaling.\n",
    "- **Características**:\n",
    "  - Implementa journaling, o que melhora a recuperação após falhas.\n",
    "  - Compatível com Ext2 (pode ser montado como Ext2 sem perder dados).\n",
    "  - Mais seguro, mas com desempenho um pouco inferior ao Ext2.\n",
    "\n",
    "#### 3. **ReiserFS**\n",
    "- **Introdução**: Lançado em 2001, o ReiserFS foi projetado para ser eficiente em ambientes com grandes volumes de pequenos arquivos.\n",
    "- **Características**:\n",
    "  - Suporta journaling.\n",
    "  - Melhor desempenho em determinadas cargas de trabalho, especialmente para arquivos pequenos.\n",
    "  - Não tão amplamente suportado quanto Ext3 e XFS.\n",
    "\n",
    "#### 4. **XFS**\n",
    "- **Introdução**: XFS é um sistema de arquivos de alto desempenho lançado originalmente pela Silicon Graphics em 1994.\n",
    "- **Características**:\n",
    "  - Suporta journaling e é otimizado para grandes volumes de dados.\n",
    "  - Muito bom para sistemas com grandes arquivos e alto desempenho.\n",
    "  - Suporta redimensionamento dinâmico e é frequentemente usado em servidores de alto desempenho.\n",
    "\n",
    "### Tabela Comparativa das Características\n",
    "\n",
    "| Característica                  | Ext2                                  | Ext3                                 | ReiserFS                            | XFS                                 |\n",
    "|----------------------------------|---------------------------------------|--------------------------------------|-------------------------------------|-------------------------------------|\n",
    "| **Lançamento**                   | 1993                                  | 2001                                 | 2001                                | 1994                                |\n",
    "| **Journaling**                    | Não                                   | Sim                                  | Sim                                 | Sim                                 |\n",
    "| **Desempenho em Arquivos Pequenos**| Bom                                   | Bom                                  | Excelente                           | Bom                                 |\n",
    "| **Desempenho em Arquivos Grandes**| Médio                                 | Médio                                | Médio                               | Excelente                           |\n",
    "| **Resiliência a Falhas**          | Baixa (sem journaling)               | Alta (com journaling)               | Alta (com journaling)              | Alta (com journaling)              |\n",
    "| **Capacidade de Escalabilidade**  | Limitada                              | Limitada                             | Boa                                 | Excelente                           |\n",
    "| **Compatibilidade com Ext2**      | N/A                                   | Totalmente compatível               | Não                                  | Não                                  |\n",
    "| **Suporte a Redimensionamento**   | Não                                   | Não                                  | Não                                 | Sim                                 |\n",
    "| **Usos Comuns**                   | Sistemas pequenos, particionamento simples | Servidores e sistemas críticos      | Sistemas com muitos arquivos pequenos | Servidores com grandes volumes de dados |\n",
    "| **Suporte Atual**                 | Descontinuado                        | Suporte contínuo                    | Suporte limitado                    | Suporte contínuo                    |\n",
    "\n",
    "### Diagrama da Arquitetura de Sistemas de Arquivos\n",
    "\n",
    "Podemos ilustrar a diferença entre os sistemas de arquivos com base no uso de journaling e nas características de desempenho.\n",
    "\n",
    "\n"
   ]
  },
  {
   "cell_type": "code",
   "execution_count": 3,
   "metadata": {},
   "outputs": [
    {
     "data": {
      "image/png": "[encoded data removed]",
      "text/plain": [
       "<Figure size 1000x600 with 1 Axes>"
      ]
     },
     "metadata": {},
     "output_type": "display_data"
    }
   ],
   "source": [
    "import matplotlib.pyplot as plt\n",
    "\n",
    "# Dados do gráfico\n",
    "labels = ['Ext2', 'Ext3', 'ReiserFS', 'XFS']\n",
    "journaling = [0, 1, 1, 1]\n",
    "performance_small_files = [7, 6, 9, 7]\n",
    "performance_large_files = [6, 6, 6, 9]\n",
    "scalability = [4, 5, 7, 9]\n",
    "\n",
    "# Criando o gráfico\n",
    "fig, ax = plt.subplots(figsize=(10, 6))\n",
    "\n",
    "ax.bar(labels, journaling, width=0.2, label='Journaling', align='center')\n",
    "ax.bar(labels, performance_small_files, width=0.2, label='Pequenos Arquivos', align='edge')\n",
    "ax.bar(labels, performance_large_files, width=0.2, label='Arquivos Grandes', align='edge', bottom=performance_small_files)\n",
    "ax.bar(labels, scalability, width=0.2, label='Escalabilidade', align='edge', bottom=[i+j for i,j in zip(performance_small_files, performance_large_files)])\n",
    "\n",
    "# Adicionando títulos e rótulos\n",
    "ax.set_title('Comparação de Sistemas de Arquivos')\n",
    "ax.set_ylabel('Pontuação (Escala 1-10)')\n",
    "ax.set_xlabel('Sistema de Arquivo')\n",
    "\n",
    "ax.legend()\n",
    "\n",
    "plt.show()"
   ]
  },
  {
   "cell_type": "markdown",
   "metadata": {},
   "source": [
    "## parte 3"
   ]
  },
  {
   "cell_type": "markdown",
   "metadata": {},
   "source": [
    "### tarefa 9"
   ]
  },
  {
   "cell_type": "code",
   "execution_count": null,
   "metadata": {},
   "outputs": [
    {
     "name": "stdout",
     "output_type": "stream",
     "text": [
      "could not change directory to \"/home/zico/.local/share/Trash/files/tpch-pgsql\": Permissão negada\n",
      "DROP TABLE\n",
      "could not change directory to \"/home/zico/.local/share/Trash/files/tpch-pgsql\": Permissão negada\n",
      "CREATE TABLE\n",
      "could not change directory to \"/home/zico/.local/share/Trash/files/tpch-pgsql\": Permissão negada\n",
      "INSERT 0 100000\n",
      "could not change directory to \"/home/zico/.local/share/Trash/files/tpch-pgsql\": Permissão negada\n",
      " k  | v \n",
      "----+---\n",
      "  1 | 6\n",
      "  2 | 4\n",
      "  3 | 9\n",
      "  4 | 0\n",
      "  5 | 2\n",
      "  6 | 4\n",
      "  7 | 6\n",
      "  8 | 3\n",
      "  9 | 7\n",
      " 10 | 9\n",
      "(10 rows)\n",
      "\n"
     ]
    }
   ],
   "source": [
    "# Usando o terminal para executar comandos SQL no PostgreSQL\n",
    "!sudo -u postgres psql -c \"DROP TABLE IF EXISTS t;\"\n",
    "!sudo -u postgres psql -c \"CREATE TABLE t (k serial PRIMARY KEY, v integer);\"\n",
    "!sudo -u postgres psql -c \"INSERT INTO t(v) SELECT trunc(random() * 10) FROM generate_series(1,100000);\"\n",
    "\n"
   ]
  },
  {
   "cell_type": "markdown",
   "metadata": {},
   "source": []
  },
  {
   "cell_type": "code",
   "execution_count": 10,
   "metadata": {},
   "outputs": [
    {
     "name": "stdout",
     "output_type": "stream",
     "text": [
      "could not change directory to \"/home/zico/.local/share/Trash/files/tpch-pgsql\": Permissão negada\n",
      " k  | v \n",
      "----+---\n",
      "  1 | 6\n",
      "  2 | 4\n",
      "  3 | 9\n",
      "  4 | 0\n",
      "  5 | 2\n",
      "  6 | 4\n",
      "  7 | 6\n",
      "  8 | 3\n",
      "  9 | 7\n",
      " 10 | 9\n",
      "(10 rows)\n",
      "\n"
     ]
    }
   ],
   "source": [
    "# Executa o comando SQL para selecionar as primeiras 10 tuplas, ordenadas por k\n",
    "!sudo -u postgres psql -c \"SELECT * FROM t ORDER BY k LIMIT 10;\""
   ]
  },
  {
   "cell_type": "markdown",
   "metadata": {},
   "source": [
    "### tarefa 10"
   ]
  },
  {
   "cell_type": "code",
   "execution_count": 11,
   "metadata": {},
   "outputs": [
    {
     "name": "stdout",
     "output_type": "stream",
     "text": [
      "could not change directory to \"/home/zico/.local/share/Trash/files/tpch-pgsql\": Permissão negada\n",
      " relname | relpages | reltuples \n",
      "---------+----------+-----------\n",
      " t       |      443 |    100000\n",
      "(1 row)\n",
      "\n"
     ]
    }
   ],
   "source": [
    "# Consulta o número de páginas de blocos e de tuplas da tabela 't'\n",
    "!sudo -u postgres psql -c \"SELECT relname, relpages, reltuples FROM pg_class WHERE relname='t';\"\n"
   ]
  },
  {
   "cell_type": "markdown",
   "metadata": {},
   "source": [
    "### tarefa 11"
   ]
  },
  {
   "cell_type": "code",
   "execution_count": 15,
   "metadata": {},
   "outputs": [
    {
     "name": "stderr",
     "output_type": "stream",
     "text": [
      "could not change directory to \"/home/zico/.local/share/Trash/files/tpch-pgsql\": Permissão negada\n"
     ]
    },
    {
     "name": "stdout",
     "output_type": "stream",
     "text": [
      "Expanded display is on.\n",
      "-[ RECORD 1 ]\n",
      "pg_sleep | \n",
      "\n",
      "-[ RECORD 1 ]----------+------------------------------------------------------------------------------------------------------------------------------------------------------------------------------------------------------------------------------------------------------------------------------------------------------------------------------------------------------------------------------------------------------------------------------------------------------------------------------------------------------------------------------------------------------------------------------------------------------------------\n",
      "schemaname             | public\n",
      "tablename              | t\n",
      "attname                | k\n",
      "inherited              | f\n",
      "null_frac              | 0\n",
      "avg_width              | 4\n",
      "n_distinct             | -1\n",
      "most_common_vals       | \n",
      "most_common_freqs      | \n",
      "histogram_bounds       | {8,1005,1923,2921,4000,5034,6021,7065,8025,9026,9981,11024,12005,12871,13893,14857,15863,16989,18014,19098,20068,21107,22024,23082,24130,25093,25981,27054,28172,29180,30178,31152,32083,33065,34024,35031,35977,36940,37909,38975,39914,40893,41965,43061,44088,45146,46188,47201,48165,49093,50162,51236,52196,53262,54223,55220,56340,57375,58324,59309,60248,61276,62254,63266,64201,65115,66018,67041,68065,69063,70175,71297,72373,73336,74361,75369,76356,77308,78269,79268,80252,81257,82230,83265,84282,85220,86130,87155,88157,89142,90027,90973,91859,92858,93924,94959,96018,97061,98018,98948,99996}\n",
      "correlation            | 1\n",
      "most_common_elems      | \n",
      "most_common_elem_freqs | \n",
      "elem_count_histogram   | \n",
      "-[ RECORD 2 ]----------+------------------------------------------------------------------------------------------------------------------------------------------------------------------------------------------------------------------------------------------------------------------------------------------------------------------------------------------------------------------------------------------------------------------------------------------------------------------------------------------------------------------------------------------------------------------------------------------------------------------\n",
      "schemaname             | public\n",
      "tablename              | t\n",
      "attname                | v\n",
      "inherited              | f\n",
      "null_frac              | 0\n",
      "avg_width              | 4\n",
      "n_distinct             | 10\n",
      "most_common_vals       | {6,7,3,0,1,8,5,4,9,2}\n",
      "most_common_freqs      | {0.10266667,0.10136667,0.1006,0.10056667,0.09966667,0.099366665,0.0993,0.09923334,0.09893333,0.0983}\n",
      "histogram_bounds       | \n",
      "correlation            | 0.09449687\n",
      "most_common_elems      | \n",
      "most_common_elem_freqs | \n",
      "elem_count_histogram   | \n",
      "\n",
      "-[ RECORD 1 ]-+-\n",
      "pg_stat_reset | \n",
      "\n",
      "Expanded display is off.\n"
     ]
    }
   ],
   "source": [
    "%%bash\n",
    "sudo -u postgres psql -v ON_ERROR_STOP=1 <<EOF\n",
    "\\pset x on\n",
    "SELECT pg_sleep(1);\n",
    "SELECT * FROM pg_stats WHERE tablename='t';\n",
    "SELECT pg_stat_reset();\n",
    "\\pset x off\n",
    "EOF\n"
   ]
  },
  {
   "cell_type": "markdown",
   "metadata": {},
   "source": [
    "### tarefa 12"
   ]
  },
  {
   "cell_type": "code",
   "execution_count": 17,
   "metadata": {},
   "outputs": [
    {
     "name": "stderr",
     "output_type": "stream",
     "text": [
      "could not change directory to \"/home/zico/.local/share/Trash/files/tpch-pgsql\": Permissão negada\n",
      "psql: error: connection to server on socket \"/var/run/postgresql/.s.PGSQL.5432\" failed: Arquivo ou diretório inexistente\n",
      "\tIs the server running locally and accepting connections on that socket?\n"
     ]
    },
    {
     "ename": "CalledProcessError",
     "evalue": "Command 'b\"# Iniciar sess\\xc3\\xa3o psql para criar o \\xc3\\xadndice e realizar as consultas\\nsudo -u postgres psql <<EOF\\n\\\\pset x on\\n\\\\timing\\n\\n# Criar um \\xc3\\xadndice para o atributo 'v'\\nCREATE INDEX idx_v ON t(v);\\n\\n# Consultar a tabela buscando um valor espec\\xc3\\xadfico de 'v' e medir o tempo\\nEXPLAIN ANALYZE SELECT * FROM t WHERE v = 5;\\n\\n# Medir o tempo para recriar o \\xc3\\xadndice para o atributo 'v'\\nDROP INDEX idx_v;\\nCREATE INDEX idx_v ON t(v);\\n\\nEOF\\n\"' returned non-zero exit status 2.",
     "output_type": "error",
     "traceback": [
      "\u001b[0;31m---------------------------------------------------------------------------\u001b[0m",
      "\u001b[0;31mCalledProcessError\u001b[0m                        Traceback (most recent call last)",
      "Cell \u001b[0;32mIn[17], line 1\u001b[0m\n\u001b[0;32m----> 1\u001b[0m \u001b[43mget_ipython\u001b[49m\u001b[43m(\u001b[49m\u001b[43m)\u001b[49m\u001b[38;5;241;43m.\u001b[39;49m\u001b[43mrun_cell_magic\u001b[49m\u001b[43m(\u001b[49m\u001b[38;5;124;43m'\u001b[39;49m\u001b[38;5;124;43mbash\u001b[39;49m\u001b[38;5;124;43m'\u001b[39;49m\u001b[43m,\u001b[49m\u001b[43m \u001b[49m\u001b[38;5;124;43m'\u001b[39;49m\u001b[38;5;124;43m'\u001b[39;49m\u001b[43m,\u001b[49m\u001b[43m \u001b[49m\u001b[38;5;124;43m\"\u001b[39;49m\u001b[38;5;124;43m# Iniciar sessão psql para criar o índice e realizar as consultas\u001b[39;49m\u001b[38;5;130;43;01m\\n\u001b[39;49;00m\u001b[38;5;124;43msudo -u postgres psql <<EOF\u001b[39;49m\u001b[38;5;130;43;01m\\n\u001b[39;49;00m\u001b[38;5;130;43;01m\\\\\u001b[39;49;00m\u001b[38;5;124;43mpset x on\u001b[39;49m\u001b[38;5;130;43;01m\\n\u001b[39;49;00m\u001b[38;5;130;43;01m\\\\\u001b[39;49;00m\u001b[38;5;124;43mtiming\u001b[39;49m\u001b[38;5;130;43;01m\\n\u001b[39;49;00m\u001b[38;5;130;43;01m\\n\u001b[39;49;00m\u001b[38;5;124;43m# Criar um índice para o atributo \u001b[39;49m\u001b[38;5;124;43m'\u001b[39;49m\u001b[38;5;124;43mv\u001b[39;49m\u001b[38;5;124;43m'\u001b[39;49m\u001b[38;5;130;43;01m\\n\u001b[39;49;00m\u001b[38;5;124;43mCREATE INDEX idx_v ON t(v);\u001b[39;49m\u001b[38;5;130;43;01m\\n\u001b[39;49;00m\u001b[38;5;130;43;01m\\n\u001b[39;49;00m\u001b[38;5;124;43m# Consultar a tabela buscando um valor específico de \u001b[39;49m\u001b[38;5;124;43m'\u001b[39;49m\u001b[38;5;124;43mv\u001b[39;49m\u001b[38;5;124;43m'\u001b[39;49m\u001b[38;5;124;43m e medir o tempo\u001b[39;49m\u001b[38;5;130;43;01m\\n\u001b[39;49;00m\u001b[38;5;124;43mEXPLAIN ANALYZE SELECT * FROM t WHERE v = 5;\u001b[39;49m\u001b[38;5;130;43;01m\\n\u001b[39;49;00m\u001b[38;5;130;43;01m\\n\u001b[39;49;00m\u001b[38;5;124;43m# Medir o tempo para recriar o índice para o atributo \u001b[39;49m\u001b[38;5;124;43m'\u001b[39;49m\u001b[38;5;124;43mv\u001b[39;49m\u001b[38;5;124;43m'\u001b[39;49m\u001b[38;5;130;43;01m\\n\u001b[39;49;00m\u001b[38;5;124;43mDROP INDEX idx_v;\u001b[39;49m\u001b[38;5;130;43;01m\\n\u001b[39;49;00m\u001b[38;5;124;43mCREATE INDEX idx_v ON t(v);\u001b[39;49m\u001b[38;5;130;43;01m\\n\u001b[39;49;00m\u001b[38;5;130;43;01m\\n\u001b[39;49;00m\u001b[38;5;124;43mEOF\u001b[39;49m\u001b[38;5;130;43;01m\\n\u001b[39;49;00m\u001b[38;5;124;43m\"\u001b[39;49m\u001b[43m)\u001b[49m\n",
      "File \u001b[0;32m~/.local/lib/python3.10/site-packages/IPython/core/interactiveshell.py:2541\u001b[0m, in \u001b[0;36mInteractiveShell.run_cell_magic\u001b[0;34m(self, magic_name, line, cell)\u001b[0m\n\u001b[1;32m   2539\u001b[0m \u001b[38;5;28;01mwith\u001b[39;00m \u001b[38;5;28mself\u001b[39m\u001b[38;5;241m.\u001b[39mbuiltin_trap:\n\u001b[1;32m   2540\u001b[0m     args \u001b[38;5;241m=\u001b[39m (magic_arg_s, cell)\n\u001b[0;32m-> 2541\u001b[0m     result \u001b[38;5;241m=\u001b[39m \u001b[43mfn\u001b[49m\u001b[43m(\u001b[49m\u001b[38;5;241;43m*\u001b[39;49m\u001b[43margs\u001b[49m\u001b[43m,\u001b[49m\u001b[43m \u001b[49m\u001b[38;5;241;43m*\u001b[39;49m\u001b[38;5;241;43m*\u001b[39;49m\u001b[43mkwargs\u001b[49m\u001b[43m)\u001b[49m\n\u001b[1;32m   2543\u001b[0m \u001b[38;5;66;03m# The code below prevents the output from being displayed\u001b[39;00m\n\u001b[1;32m   2544\u001b[0m \u001b[38;5;66;03m# when using magics with decorator @output_can_be_silenced\u001b[39;00m\n\u001b[1;32m   2545\u001b[0m \u001b[38;5;66;03m# when the last Python token in the expression is a ';'.\u001b[39;00m\n\u001b[1;32m   2546\u001b[0m \u001b[38;5;28;01mif\u001b[39;00m \u001b[38;5;28mgetattr\u001b[39m(fn, magic\u001b[38;5;241m.\u001b[39mMAGIC_OUTPUT_CAN_BE_SILENCED, \u001b[38;5;28;01mFalse\u001b[39;00m):\n",
      "File \u001b[0;32m~/.local/lib/python3.10/site-packages/IPython/core/magics/script.py:155\u001b[0m, in \u001b[0;36mScriptMagics._make_script_magic.<locals>.named_script_magic\u001b[0;34m(line, cell)\u001b[0m\n\u001b[1;32m    153\u001b[0m \u001b[38;5;28;01melse\u001b[39;00m:\n\u001b[1;32m    154\u001b[0m     line \u001b[38;5;241m=\u001b[39m script\n\u001b[0;32m--> 155\u001b[0m \u001b[38;5;28;01mreturn\u001b[39;00m \u001b[38;5;28;43mself\u001b[39;49m\u001b[38;5;241;43m.\u001b[39;49m\u001b[43mshebang\u001b[49m\u001b[43m(\u001b[49m\u001b[43mline\u001b[49m\u001b[43m,\u001b[49m\u001b[43m \u001b[49m\u001b[43mcell\u001b[49m\u001b[43m)\u001b[49m\n",
      "File \u001b[0;32m~/.local/lib/python3.10/site-packages/IPython/core/magics/script.py:315\u001b[0m, in \u001b[0;36mScriptMagics.shebang\u001b[0;34m(self, line, cell)\u001b[0m\n\u001b[1;32m    310\u001b[0m \u001b[38;5;28;01mif\u001b[39;00m args\u001b[38;5;241m.\u001b[39mraise_error \u001b[38;5;129;01mand\u001b[39;00m p\u001b[38;5;241m.\u001b[39mreturncode \u001b[38;5;241m!=\u001b[39m \u001b[38;5;241m0\u001b[39m:\n\u001b[1;32m    311\u001b[0m     \u001b[38;5;66;03m# If we get here and p.returncode is still None, we must have\u001b[39;00m\n\u001b[1;32m    312\u001b[0m     \u001b[38;5;66;03m# killed it but not yet seen its return code. We don't wait for it,\u001b[39;00m\n\u001b[1;32m    313\u001b[0m     \u001b[38;5;66;03m# in case it's stuck in uninterruptible sleep. -9 = SIGKILL\u001b[39;00m\n\u001b[1;32m    314\u001b[0m     rc \u001b[38;5;241m=\u001b[39m p\u001b[38;5;241m.\u001b[39mreturncode \u001b[38;5;129;01mor\u001b[39;00m \u001b[38;5;241m-\u001b[39m\u001b[38;5;241m9\u001b[39m\n\u001b[0;32m--> 315\u001b[0m     \u001b[38;5;28;01mraise\u001b[39;00m CalledProcessError(rc, cell)\n",
      "\u001b[0;31mCalledProcessError\u001b[0m: Command 'b\"# Iniciar sess\\xc3\\xa3o psql para criar o \\xc3\\xadndice e realizar as consultas\\nsudo -u postgres psql <<EOF\\n\\\\pset x on\\n\\\\timing\\n\\n# Criar um \\xc3\\xadndice para o atributo 'v'\\nCREATE INDEX idx_v ON t(v);\\n\\n# Consultar a tabela buscando um valor espec\\xc3\\xadfico de 'v' e medir o tempo\\nEXPLAIN ANALYZE SELECT * FROM t WHERE v = 5;\\n\\n# Medir o tempo para recriar o \\xc3\\xadndice para o atributo 'v'\\nDROP INDEX idx_v;\\nCREATE INDEX idx_v ON t(v);\\n\\nEOF\\n\"' returned non-zero exit status 2."
     ]
    }
   ],
   "source": [
    "%%bash\n",
    "# Iniciar sessão psql para criar o índice e realizar as consultas\n",
    "sudo -u postgres psql <<EOF\n",
    "\\pset x on\n",
    "\\timing\n",
    "\n",
    "# Criar um índice para o atributo 'v'\n",
    "CREATE INDEX idx_v ON t(v);\n",
    "\n",
    "# Consultar a tabela buscando um valor específico de 'v' e medir o tempo\n",
    "EXPLAIN ANALYZE SELECT * FROM t WHERE v = 5;\n",
    "\n",
    "# Medir o tempo para recriar o índice para o atributo 'v'\n",
    "DROP INDEX idx_v;\n",
    "CREATE INDEX idx_v ON t(v);\n",
    "\n",
    "EOF\n"
   ]
  },
  {
   "cell_type": "code",
   "execution_count": null,
   "metadata": {},
   "outputs": [],
   "source": []
  }
 ],
 "metadata": {
  "kernelspec": {
   "display_name": "Python 3",
   "language": "python",
   "name": "python3"
  },
  "language_info": {
   "codemirror_mode": {
    "name": "ipython",
    "version": 3
   },
   "file_extension": ".py",
   "mimetype": "text/x-python",
   "name": "python",
   "nbconvert_exporter": "python",
   "pygments_lexer": "ipython3",
   "version": "3.10.12"
  }
 },
 "nbformat": 4,
 "nbformat_minor": 2
}
