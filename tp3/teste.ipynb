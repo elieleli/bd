{
 "cells": [
  {
   "cell_type": "markdown",
   "metadata": {},
   "source": [
    "## Preparação:\n",
    "- remoção do postgres caso ele já esteja no computador."
   ]
  },
  {
   "cell_type": "code",
   "execution_count": null,
   "metadata": {},
   "outputs": [],
   "source": [
    "#apagando postgres caso ele já esteja no compouter\n",
    "!sudo systemctl stop postgresql \n",
    "!sudo apt-get --purge remove postgresql*\n",
    "!sudo apt-get autoremove\n",
    "!sudo apt-get autoclean\n",
    "!psql --version\n"
   ]
  },
  {
   "cell_type": "markdown",
   "metadata": {},
   "source": [
    "- clonagem do repositório, junto dos comandos iniciais"
   ]
  },
  {
   "cell_type": "code",
   "execution_count": null,
   "metadata": {},
   "outputs": [],
   "source": [
    "!git clone https://github.com/foliveirafilho/tpch-pgsql.git\n",
    "!wget -q https://github.com/electrum/tpch-dbgen/archive/32f1c1b92d1664dba542e927d23d86ffa57aa253.zip -O tpch-dbgen.zip\n",
    "!unzip -q tpch-dbgen.zip && mv tpch-dbgen-32f1c1b92d1664dba542e927d23d86ffa57aa253 tpch-dbgen && rm tpch-dbgen.zip\n"
   ]
  },
  {
   "cell_type": "markdown",
   "metadata": {},
   "source": [
    "- reinstalação do postgres"
   ]
  },
  {
   "cell_type": "code",
   "execution_count": null,
   "metadata": {},
   "outputs": [],
   "source": [
    "!sudo apt-get install -y postgresql postgresql-contrib\n"
   ]
  },
  {
   "cell_type": "markdown",
   "metadata": {},
   "source": [
    "- verificação das versões"
   ]
  },
  {
   "cell_type": "code",
   "execution_count": null,
   "metadata": {},
   "outputs": [],
   "source": [
    "!gcc --version\n",
    "!python3 --version\n",
    "!pg_config --version\n"
   ]
  },
  {
   "cell_type": "markdown",
   "metadata": {},
   "source": [
    "## Passo a passo repositório"
   ]
  },
  {
   "cell_type": "markdown",
   "metadata": {},
   "source": [
    "- instalação do programa "
   ]
  },
  {
   "cell_type": "code",
   "execution_count": null,
   "metadata": {},
   "outputs": [],
   "source": [
    "!pip3 install -r tpch-pgsql/requirements.txt"
   ]
  },
  {
   "cell_type": "markdown",
   "metadata": {},
   "source": [
    "- Criação de usuário no postgres"
   ]
  },
  {
   "cell_type": "code",
   "execution_count": null,
   "metadata": {},
   "outputs": [
    {
     "name": "stdout",
     "output_type": "stream",
     "text": [
      "could not change directory to \"/home/zico/Documentos/ufam/bd/bd/tp3\": Permissão negada\n"
     ]
    }
   ],
   "source": [
    "!sudo -u postgres createuser tpch\n",
    "!sudo -u postgres createdb tpchdb\n",
    "!sudo -u postgres psql -c \"ALTER USER tpch WITH ENCRYPTED PASSWORD '1234';\"\n",
    "!sudo -u postgres psql -c \"GRANT ALL PRIVILEGES ON DATABASE tpchdb TO tpch;\"\n",
    "!PGPASSWORD=1234 psql -h localhost -p 5432 -d tpchdb -U tpch -c \"\\l\"\n"
   ]
  },
  {
   "cell_type": "markdown",
   "metadata": {},
   "source": [
    "- rodando o programa (comparar com a versão do jhon)"
   ]
  },
  {
   "cell_type": "code",
   "execution_count": null,
   "metadata": {},
   "outputs": [],
   "source": [
    "!python3 tpch_pgsql.py prepare -H localhost -p 5432 -U tpch -W 1234 -d tpchdb -i ./data\n",
    "#executando  com tpch-dbgen dentro de tpch-pgsql\n",
    "#deu certo\n",
    "#passo 3\n",
    "\n",
    "!python3 tpch_pgsql.py load -H localhost -p 5432 -U tpch -W 1234 -d tpchdb\n",
    "#passo 3\n",
    "\n",
    "!python3 tpch_pgsql.py query -H localhost -p 5432 -U tpch -W 1234 -d tpchdb\n",
    "#passo 3"
   ]
  },
  {
   "cell_type": "markdown",
   "metadata": {},
   "source": [
    "## Tarefa 4: identificação do sistema"
   ]
  },
  {
   "cell_type": "code",
   "execution_count": 72,
   "metadata": {},
   "outputs": [
    {
     "name": "stdout",
     "output_type": "stream",
     "text": [
      "--------------------NOME PROCESS--------------\n"
     ]
    },
    {
     "name": "stdout",
     "output_type": "stream",
     "text": [
      "Nome do modelo:                       12th Gen Intel(R) Core(TM) i5-12450H\n",
      "\n",
      "---------------RAM------------------\n",
      "               total       usada       livre    compart.  buff/cache  disponível\n",
      "Mem.:          7,5Gi       2,9Gi       728Mi       859Mi       3,8Gi       3,3Gi\n",
      "Swap:          2,0Gi       1,1Gi       928Mi\n",
      "\n",
      "---------------Disco------------------\n",
      "nvme0n1     238,5G disk\n",
      "\n",
      "---------------cache------------------\n",
      "cache de L1d:                         320 KiB (8 instances)\n",
      "cache de L1i:                         384 KiB (8 instances)\n",
      "cache de L2:                          7 MiB (5 instances)\n",
      "cache de L3:                          12 MiB (1 instance)\n",
      "\n",
      "---------------Distro------------------\n",
      "No LSB modules are available.\n",
      "Distributor ID:\tZorin\n",
      "\n",
      "---------------SO e Kernel------------------\n",
      "Linux Mengo 6.8.0-48-generic #48~22.04.1-Ubuntu SMP PREEMPT_DYNAMIC Mon Oct  7 11:24:13 UTC 2 x86_64 x86_64 x86_64 GNU/Linux\n"
     ]
    }
   ],
   "source": [
    "!echo \"--------------------NOME PROCESS--------------\"\n",
    "!lscpu | grep \"Nome\"\n",
    "!echo \"\"\n",
    "!echo \"---------------RAM------------------\"\n",
    "!free -h # Detalhes sobre a memória RAM tarefa 4\n",
    "!echo \"\"\n",
    "!echo \"---------------Disco------------------\"\n",
    "!lsblk -o NAME,SIZE,TYPE | grep \"disk\" # Detalhes sobre o disco tarefa 4\n",
    "!echo \"\"\n",
    "!echo \"---------------cache------------------\"\n",
    "!lscpu | grep -i \"cache\"  # Cache do processador tarefa 4\n",
    "!echo \"\"\n",
    "!echo \"---------------Distro------------------\"\n",
    "!lsb_release -a | grep \"Distributor\" # Detalhes da distribuição e versão do Linux tarefa 4\n",
    "!echo \"\"\n",
    "!echo \"---------------SO e Kernel------------------\"\n",
    "!uname -a # Informações sobre o Sistema Operacional e Kernel tarefa 4"
   ]
  },
  {
   "cell_type": "markdown",
   "metadata": {},
   "source": [
    "## Tarefa 5:Verificação de Parâmetros de Armazenamento (Adaptada para SSD)\n"
   ]
  },
  {
   "cell_type": "code",
   "execution_count": 73,
   "metadata": {},
   "outputs": [
    {
     "name": "stdout",
     "output_type": "stream",
     "text": [
      "---------------Capacidade Disco------------------\n",
      "nvme0n1     238,5G disk\n"
     ]
    }
   ],
   "source": [
    "!echo \"---------------Capacidade Disco------------------\"\n",
    "!lsblk -o NAME,SIZE,TYPE | grep \"disk\" "
   ]
  },
  {
   "cell_type": "code",
   "execution_count": null,
   "metadata": {},
   "outputs": [],
   "source": [
    "!sudo apt-get install smartmontools \n",
    "#programa para rodar o próximo comando\n"
   ]
  },
  {
   "cell_type": "code",
   "execution_count": 52,
   "metadata": {},
   "outputs": [
    {
     "name": "stdout",
     "output_type": "stream",
     "text": [
      "smartctl 7.2 2020-12-30 r5155 [x86_64-linux-6.8.0-48-generic] (local build)\n",
      "Copyright (C) 2002-20, Bruce Allen, Christian Franke, www.smartmontools.org\n",
      "\n",
      "=== START OF INFORMATION SECTION ===\n",
      "Model Number:                       SM2P41C8-256GC1\n",
      "Serial Number:                      KO022L1KKNGD\n",
      "Firmware Version:                   V1223C0\n",
      "PCI Vendor/Subsystem ID:            0x1cc1\n",
      "IEEE OUI Identifier:                0x707c18\n",
      "Total NVM Capacity:                 256.060.514.304 [256 GB]\n",
      "Unallocated NVM Capacity:           0\n",
      "Controller ID:                      1\n",
      "NVMe Version:                       1.4\n",
      "Number of Namespaces:               1\n",
      "Namespace 1 Size/Capacity:          256.060.514.304 [256 GB]\n",
      "Namespace 1 Formatted LBA Size:     512\n",
      "Namespace 1 IEEE EUI-64:            707c18 0002020100\n",
      "Local Time is:                      Mon Nov 11 15:52:42 2024 -04\n",
      "Firmware Updates (0x16):            3 Slots, no Reset required\n",
      "Optional Admin Commands (0x0017):   Security Format Frmw_DL Self_Test\n",
      "Optional NVM Commands (0x00df):     Comp Wr_Unc DS_Mngmt Wr_Zero Sav/Sel_Feat Timestmp Verify\n",
      "Log Page Attributes (0x1e):         Cmd_Eff_Lg Ext_Get_Lg Telmtry_Lg Pers_Ev_Lg\n",
      "Maximum Data Transfer Size:         64 Pages\n",
      "Warning  Comp. Temp. Threshold:     86 Celsius\n",
      "Critical Comp. Temp. Threshold:     93 Celsius\n",
      "\n",
      "Supported Power States\n",
      "St Op     Max   Active     Idle   RL RT WL WT  Ent_Lat  Ex_Lat\n",
      " 0 +   4.5000W       -        -    0  0  0  0        0       0\n",
      " 1 +   2.4000W       -        -    1  1  1  1        0       0\n",
      " 2 +   0.6000W       -        -    2  2  2  2        0       0\n",
      " 3 -   0.0250W       -        -    3  3  3  3     5000    5000\n",
      " 4 -   0.0040W       -        -    4  4  4  4     5000   25000\n",
      "\n",
      "Supported LBA Sizes (NSID 0x1)\n",
      "Id Fmt  Data  Metadt  Rel_Perf\n",
      " 0 +     512       0         0\n",
      "\n",
      "=== START OF SMART DATA SECTION ===\n",
      "SMART overall-health self-assessment test result: PASSED\n",
      "\n",
      "SMART/Health Information (NVMe Log 0x02)\n",
      "Critical Warning:                   0x00\n",
      "Temperature:                        26 Celsius\n",
      "Available Spare:                    100%\n",
      "Available Spare Threshold:          10%\n",
      "Percentage Used:                    0%\n",
      "Data Units Read:                    2.618.433 [1,34 TB]\n",
      "Data Units Written:                 4.782.305 [2,44 TB]\n",
      "Host Read Commands:                 30.257.396\n",
      "Host Write Commands:                53.692.281\n",
      "Controller Busy Time:               1.879\n",
      "Power Cycles:                       378\n",
      "Power On Hours:                     786\n",
      "Unsafe Shutdowns:                   46\n",
      "Media and Data Integrity Errors:    0\n",
      "Error Information Log Entries:      0\n",
      "Warning  Comp. Temperature Time:    0\n",
      "Critical Comp. Temperature Time:    0\n",
      "Temperature Sensor 1:               26 Celsius\n",
      "Temperature Sensor 2:               35 Celsius\n",
      "\n",
      "Error Information (NVMe Log 0x01, 16 of 256 entries)\n",
      "No Errors Logged\n",
      "\n"
     ]
    }
   ],
   "source": [
    "# Verificando informações de latência do SSD usando smartctl\n",
    "!sudo smartctl -a /dev/nvme0n1 #mudar o /dev/... pelo nome do ssd do computador"
   ]
  },
  {
   "cell_type": "code",
   "execution_count": 32,
   "metadata": {},
   "outputs": [
    {
     "name": "stdout",
     "output_type": "stream",
     "text": [
      "\n",
      "/dev/nvme0n1:\n",
      " Timing cached reads:   10272 MB in  2.00 seconds = 5142.22 MB/sec\n",
      " Timing buffered disk reads: 3318 MB in  3.00 seconds = 1105.80 MB/sec\n"
     ]
    }
   ],
   "source": [
    "# Taxa de transferência de leitura do SSD\n",
    "!sudo hdparm -tT /dev/nvme0n1\n"
   ]
  },
  {
   "cell_type": "code",
   "execution_count": 33,
   "metadata": {},
   "outputs": [
    {
     "name": "stdout",
     "output_type": "stream",
     "text": [
      "Data Units Written:                 4.781.530 [2,44 TB]\n"
     ]
    }
   ],
   "source": [
    "# Verificando a vida útil (TBW) do SSD\n",
    "!sudo smartctl -A /dev/nvme0n1 | grep \"Data Units Written\"\n"
   ]
  },
  {
   "cell_type": "code",
   "execution_count": null,
   "metadata": {},
   "outputs": [
    {
     "name": "stdout",
     "output_type": "stream",
     "text": [
      "smartctl 7.2 2020-12-30 r5155 [x86_64-linux-6.8.0-48-generic] (local build)\n",
      "Copyright (C) 2002-20, Bruce Allen, Christian Franke, www.smartmontools.org\n",
      "\n",
      "=== START OF INFORMATION SECTION ===\n",
      "Model Number:                       SM2P41C8-256GC1\n",
      "Serial Number:                      KO022L1KKNGD\n",
      "Firmware Version:                   V1223C0\n",
      "PCI Vendor/Subsystem ID:            0x1cc1\n",
      "IEEE OUI Identifier:                0x707c18\n",
      "Total NVM Capacity:                 256.060.514.304 [256 GB]\n",
      "Unallocated NVM Capacity:           0\n",
      "Controller ID:                      1\n",
      "NVMe Version:                       1.4\n",
      "Number of Namespaces:               1\n",
      "Namespace 1 Size/Capacity:          256.060.514.304 [256 GB]\n",
      "Namespace 1 Formatted LBA Size:     512\n",
      "Namespace 1 IEEE EUI-64:            707c18 0002020100\n",
      "Local Time is:                      Mon Nov 11 15:22:11 2024 -04\n",
      "\n"
     ]
    }
   ],
   "source": [
    "# Tipo de memória utilizada no SSD (se disponível)\n",
    "!sudo smartctl -i /dev/nvme0n1\n",
    "#ultima 5. a)"
   ]
  },
  {
   "cell_type": "code",
   "execution_count": 43,
   "metadata": {},
   "outputs": [
    {
     "name": "stdout",
     "output_type": "stream",
     "text": [
      "\n",
      "/dev/nvme0n1:\n",
      " readonly      =  0 (off)\n",
      " readahead     = 256 (on)\n",
      " geometry      = 244198/64/32, sectors = 500118192, start = 0\n"
     ]
    }
   ],
   "source": [
    "# Verificando o modo de leitura e gravação do SSD usando hdparm\n",
    "!sudo hdparm /dev/nvme0n1 \n"
   ]
  },
  {
   "cell_type": "code",
   "execution_count": 45,
   "metadata": {},
   "outputs": [],
   "source": [
    "# Verificando a ativação do TRIM no SSD usando smartctl\n",
    "!sudo smartctl -i /dev/nvme0n1 | grep \"TRIM\"\n"
   ]
  },
  {
   "cell_type": "code",
   "execution_count": 48,
   "metadata": {},
   "outputs": [],
   "source": [
    "\n",
    "# Verificar TRIM usando hdparm\n",
    "!sudo hdparm -I /dev/nvme0n1 | grep \"TRIM\""
   ]
  }
 ],
 "metadata": {
  "kernelspec": {
   "display_name": "Python 3",
   "language": "python",
   "name": "python3"
  },
  "language_info": {
   "codemirror_mode": {
    "name": "ipython",
    "version": 3
   },
   "file_extension": ".py",
   "mimetype": "text/x-python",
   "name": "python",
   "nbconvert_exporter": "python",
   "pygments_lexer": "ipython3",
   "version": "3.10.12"
  }
 },
 "nbformat": 4,
 "nbformat_minor": 2
}
